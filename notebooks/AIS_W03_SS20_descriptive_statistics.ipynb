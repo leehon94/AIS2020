{
 "cells": [
  {
   "cell_type": "markdown",
   "metadata": {
    "cell_style": "center",
    "slideshow": {
     "slide_type": "slide"
    }
   },
   "source": [
    "*Analytical Information Systems*\n",
    "\n",
    "# Worksheet 3 - Descriptive Statistics\n",
    "\n",
    "Matthias Griebel<br>\n",
    "Lehrstuhl für Wirtschaftsinformatik und Informationsmanagement\n",
    "\n",
    "SS 2020"
   ]
  },
  {
   "cell_type": "markdown",
   "metadata": {},
   "source": [
    "## Descriptive Statistics"
   ]
  },
  {
   "cell_type": "markdown",
   "metadata": {
    "cell_style": "split",
    "slideshow": {
     "slide_type": "subslide"
    }
   },
   "source": [
    "### Scales of Measurement\n",
    "\n",
    "Categorical (Qualitative) Data\n",
    "- Nominal Scale: Identity or category\n",
    "- Ordinal Scale: Order or rank\n",
    "\n",
    "Quantitative Data (numeric)\n",
    "- Interval Scale: Order and quantity: Differences can be calculated\n",
    "- Ratio Scale: Interval scale with an absolute zero"
   ]
  },
  {
   "cell_type": "markdown",
   "metadata": {
    "cell_style": "center",
    "slideshow": {
     "slide_type": "-"
    }
   },
   "source": [
    "### Summary Descriptive Statistics"
   ]
  },
  {
   "cell_type": "markdown",
   "metadata": {
    "cell_style": "center",
    "slideshow": {
     "slide_type": "-"
    }
   },
   "source": [
    "- __Central tendency:__ What are the most typical values?\n",
    "    - mean, median, mode\n",
    "\n",
    "- __Variability:__ How do the values vary?\n",
    "    - Range\n",
    "    - Percentiles\n",
    "    - Standard Deviation\n",
    "    - Coefficient of variation"
   ]
  },
  {
   "cell_type": "markdown",
   "metadata": {
    "cell_style": "center",
    "slideshow": {
     "slide_type": "subslide"
    }
   },
   "source": [
    "__Central tendency, variability, and shape__\n",
    "\n",
    "<img src=\"https://upload.wikimedia.org/wikipedia/commons/thumb/d/de/Comparison_mean_median_mode.svg/1280px-Comparison_mean_median_mode.svg.png\" width=\"400\">\n",
    "\n",
    "from *[Wikipedia](https://en.wikipedia.org/wiki/Skewness)*"
   ]
  },
  {
   "cell_type": "markdown",
   "metadata": {
    "slideshow": {
     "slide_type": "subslide"
    }
   },
   "source": [
    "- __Shape:__ Are the values symmetrically or asymmetrically distributed?\n",
    "    - skewness: symmetry \n",
    "    - kurtosis: how peaky is the distribution\n",
    "        - Excess kurtosis is defined as kurtosis minus 3\n",
    "            - Mesokurtic (excess = 0): normal distribution family, regardless of the values of its parameters\n",
    "            - Leptokurtic (excess > 0): distribution has fatter tails and a pointed peak\n",
    "            - Platykurtic (excess < 0): distribution has thinner tails a flat peak"
   ]
  },
  {
   "cell_type": "markdown",
   "metadata": {
    "cell_style": "split",
    "slideshow": {
     "slide_type": "-"
    }
   },
   "source": [
    "*from [Wikipedia](https://en.wikipedia.org/wiki/Kurtosis)*"
   ]
  },
  {
   "cell_type": "markdown",
   "metadata": {
    "cell_style": "split"
   },
   "source": [
    "Probability density functions for selected distributions with mean 0, variance 1 and different excess kurtosis\n",
    "\n",
    "<img src=\"https://upload.wikimedia.org/wikipedia/commons/e/e6/Standard_symmetric_pdfs.png\" width=\"500\">"
   ]
  },
  {
   "cell_type": "markdown",
   "metadata": {},
   "source": [
    "## Exercises"
   ]
  },
  {
   "cell_type": "markdown",
   "metadata": {},
   "source": [
    "Firstly, we need to load the `tidyverse` package"
   ]
  },
  {
   "cell_type": "code",
   "execution_count": null,
   "metadata": {},
   "outputs": [],
   "source": [
    "library(tidyverse)"
   ]
  },
  {
   "cell_type": "markdown",
   "metadata": {},
   "source": [
    "To analyze skewness and kurtosis we also need to install and load the 'psych' package"
   ]
  },
  {
   "cell_type": "code",
   "execution_count": null,
   "metadata": {},
   "outputs": [],
   "source": [
    "install.packages('psych')\n",
    "library(psych)"
   ]
  },
  {
   "cell_type": "markdown",
   "metadata": {
    "slideshow": {
     "slide_type": "subslide"
    }
   },
   "source": [
    "### 1 The diamonds dataset"
   ]
  },
  {
   "cell_type": "markdown",
   "metadata": {
    "slideshow": {
     "slide_type": "subslide"
    }
   },
   "source": [
    "The diamonds dataset comes with the package `ggplot2` and contains information about ~54,000 diamonds, including the `price`, `carat`, `color`, `clarity`, and `cut` of each diamond."
   ]
  },
  {
   "cell_type": "markdown",
   "metadata": {
    "slideshow": {
     "slide_type": "fragment"
    }
   },
   "source": [
    "Let's have a look at the data. What are the scales of the variables?"
   ]
  },
  {
   "cell_type": "code",
   "execution_count": null,
   "metadata": {},
   "outputs": [],
   "source": [
    "diamonds %>% head()"
   ]
  },
  {
   "cell_type": "code",
   "execution_count": null,
   "metadata": {},
   "outputs": [],
   "source": [
    "?diamonds"
   ]
  },
  {
   "cell_type": "markdown",
   "metadata": {
    "slideshow": {
     "slide_type": "subslide"
    }
   },
   "source": [
    "1. \n",
    "    1. __On the diamond data set, calculate statistical measures to describe the central tendency, variability and the shape of the `price`:__"
   ]
  },
  {
   "cell_type": "code",
   "execution_count": null,
   "metadata": {
    "slideshow": {
     "slide_type": "subslide"
    }
   },
   "outputs": [],
   "source": [
    "# Write your code here"
   ]
  },
  {
   "cell_type": "markdown",
   "metadata": {
    "slideshow": {
     "slide_type": "subslide"
    }
   },
   "source": [
    "Visualization often facilitates understanding of the data and its distribution. \n",
    "\n",
    "*(We will learn more about data visualization in the next section.)*"
   ]
  },
  {
   "cell_type": "code",
   "execution_count": null,
   "metadata": {},
   "outputs": [],
   "source": [
    "options(repr.plot.width=7, repr.plot.height=5)\n",
    "diamonds %>% ggplot() + \n",
    "    geom_density(aes(x=scale(price))) +\n",
    "    stat_function(n = 100, fun = dnorm, linetype='dotted') +\n",
    "    theme_minimal() +\n",
    "    xlim(-5,5)"
   ]
  },
  {
   "cell_type": "markdown",
   "metadata": {},
   "source": [
    "We calculated statistical measures to get a grasp understanding of the diamond prices. Now, we want to get a deeper insight."
   ]
  },
  {
   "cell_type": "markdown",
   "metadata": {
    "slideshow": {
     "slide_type": "subslide"
    }
   },
   "source": [
    "1. \n",
    "    2. __Describe the central tendency, variability and the shape of the prices depending on the quality (`cut`) and `color`.__"
   ]
  },
  {
   "cell_type": "code",
   "execution_count": null,
   "metadata": {
    "scrolled": true
   },
   "outputs": [],
   "source": [
    "# Write your code here"
   ]
  },
  {
   "cell_type": "markdown",
   "metadata": {
    "slideshow": {
     "slide_type": "subslide"
    }
   },
   "source": [
    "1. \n",
    "    3. __How many diamonds belong to each of the groups (`cut` and `color` combinations)? What is the cheapest and the most expensive price within each group?__"
   ]
  },
  {
   "cell_type": "code",
   "execution_count": null,
   "metadata": {
    "scrolled": true
   },
   "outputs": [],
   "source": [
    "# Write your code here"
   ]
  },
  {
   "cell_type": "markdown",
   "metadata": {
    "slideshow": {
     "slide_type": "subslide"
    }
   },
   "source": [
    "Let's take a closer look at the other variables in the data set."
   ]
  },
  {
   "cell_type": "markdown",
   "metadata": {
    "slideshow": {
     "slide_type": "fragment"
    }
   },
   "source": [
    "1. \n",
    "    4. __What is the average volume of the diamonds, depending on the qualtity (`cut`)?__"
   ]
  },
  {
   "cell_type": "code",
   "execution_count": null,
   "metadata": {},
   "outputs": [],
   "source": [
    "# Write your code here"
   ]
  },
  {
   "cell_type": "markdown",
   "metadata": {
    "slideshow": {
     "slide_type": "subslide"
    }
   },
   "source": [
    "1. \n",
    "    5. __What are the average values of all (numeric) columns?__"
   ]
  },
  {
   "cell_type": "code",
   "execution_count": null,
   "metadata": {},
   "outputs": [],
   "source": [
    "# Write your code here"
   ]
  },
  {
   "cell_type": "markdown",
   "metadata": {},
   "source": [
    "### 2 Exam Questions"
   ]
  },
  {
   "cell_type": "markdown",
   "metadata": {
    "colab_type": "text",
    "id": "LCWORryN8V24"
   },
   "source": [
    "WS 2018/19 Data Engineering & Integration\n",
    "\n",
    "2. __Consider the following diamonds data set:__"
   ]
  },
  {
   "cell_type": "code",
   "execution_count": null,
   "metadata": {
    "colab": {},
    "colab_type": "code",
    "id": "4jbdamr28V24"
   },
   "outputs": [],
   "source": [
    "# This code was not included in the exam, values may differ\n",
    "library(tidyverse)\n",
    "set.seed(5)\n",
    "ggplot2::diamonds %>% \n",
    "    sample_n(10) %>% \n",
    "    arrange(cut) -> diamonds"
   ]
  },
  {
   "cell_type": "code",
   "execution_count": null,
   "metadata": {
    "colab": {},
    "colab_type": "code",
    "id": "1ZKpPTnb8V28"
   },
   "outputs": [],
   "source": [
    "diamonds"
   ]
  },
  {
   "cell_type": "markdown",
   "metadata": {
    "colab_type": "text",
    "id": "Va40Ll6T8V3A"
   },
   "source": [
    "__i. (1 points) You are executing the code below. How many rows does the resulting data frame contain? Briefly explain your answer.__\n",
    "\n",
    "```R\n",
    "diamonds  %>%\n",
    "    group_by(cut) %>%\n",
    "    summarize(median(depth))\n",
    "```\n",
    "\n",
    "__Solution__:"
   ]
  },
  {
   "cell_type": "code",
   "execution_count": null,
   "metadata": {
    "colab": {},
    "colab_type": "code",
    "id": "vEpufsrB8V3A",
    "scrolled": true
   },
   "outputs": [],
   "source": [
    "# Write your answer/code here"
   ]
  },
  {
   "cell_type": "markdown",
   "metadata": {
    "colab_type": "text",
    "id": "crscUcS68V3E"
   },
   "source": [
    "__ii. (2 points) You are executing the code below. What are the column names of the resulting data frame?__\n",
    "\n",
    "```R\n",
    "diamonds %>%\n",
    "    group_by(clarity , color) %>%\n",
    "    filter(price > 1000) %>%\n",
    "    mutate(volume = x * y * z) %>%\n",
    "    summarise(x = mean(carat),y = mean(price)) %>%\n",
    "    mutate(z = x * y)\n",
    "```\n",
    "\n",
    "__Solution__:"
   ]
  },
  {
   "cell_type": "code",
   "execution_count": null,
   "metadata": {
    "colab": {},
    "colab_type": "code",
    "id": "fFYirXdl8V3F"
   },
   "outputs": [],
   "source": [
    "# Write your answer/code here"
   ]
  },
  {
   "cell_type": "markdown",
   "metadata": {
    "colab_type": "text",
    "id": "Cg-xqRJ78V3H"
   },
   "source": [
    "__iii. (2 points) Explain in pseudo code (e.g., dplyr pipelines) how to obtain the following transformed table from the given data set.__\n",
    "\n",
    "<table style=\"font-size: 100%;\">\n",
    "<thead>\n",
    "\t<tr><th scope=col>color</th><th scope=col>max_price</th><th scope=col>min_price</th></tr>\n",
    "</thead>\n",
    "<tbody>\n",
    "\t<tr><td>F</td><td>1630</td><td> 786</td></tr>\n",
    "\t<tr><td>G</td><td>2593</td><td>2593</td></tr>\n",
    "\t<tr><td>H</td><td>7604</td><td>1723</td></tr>\n",
    "\t<tr><td>I</td><td>4195</td><td>1840</td></tr>\n",
    "\t<tr><td>J</td><td>5463</td><td>5463</td></tr>\n",
    "</tbody>\n",
    "</table>"
   ]
  },
  {
   "cell_type": "code",
   "execution_count": null,
   "metadata": {
    "colab": {},
    "colab_type": "code",
    "id": "GgARfqLD8V3I"
   },
   "outputs": [],
   "source": [
    "# Write your answer/code here"
   ]
  }
 ],
 "metadata": {
  "celltoolbar": "Slideshow",
  "kernelspec": {
   "display_name": "R",
   "language": "R",
   "name": "ir"
  },
  "language_info": {
   "codemirror_mode": "r",
   "file_extension": ".r",
   "mimetype": "text/x-r-source",
   "name": "R",
   "pygments_lexer": "r",
   "version": "3.6.1"
  },
  "rise": {
   "enable_chalkboard": false,
   "overlay": "<div class='logo'><img src='images/uniwue4c.png'></div>",
   "scroll": true
  },
  "toc": {
   "base_numbering": 1,
   "nav_menu": {},
   "number_sections": true,
   "sideBar": true,
   "skip_h1_title": true,
   "title_cell": "Agenda",
   "title_sidebar": "Contents",
   "toc_cell": true,
   "toc_position": {},
   "toc_section_display": true,
   "toc_window_display": false
  },
  "toc-autonumbering": false,
  "toc-showmarkdowntxt": false
 },
 "nbformat": 4,
 "nbformat_minor": 4
}
