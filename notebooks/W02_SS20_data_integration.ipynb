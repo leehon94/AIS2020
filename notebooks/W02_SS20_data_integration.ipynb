{
 "cells": [
  {
   "cell_type": "markdown",
   "metadata": {
    "slideshow": {
     "slide_type": "slide"
    }
   },
   "source": [
    "*Analytical Information Systems*\n",
    "\n",
    "# Worksheet 2 - Data Integration\n",
    "\n",
    "Matthias Griebel<br>\n",
    "Lehrstuhl für Wirtschaftsinformatik und Informationsmanagement\n",
    "\n",
    "SS 2020"
   ]
  },
  {
   "cell_type": "markdown",
   "metadata": {},
   "source": [
    "## Data Integration"
   ]
  },
  {
   "cell_type": "markdown",
   "metadata": {},
   "source": [
    "#### Definition [Gartner IT Glossary](https://www.gartner.com/it-glossary/data-integration-tools/)\n",
    "\n",
    "*'[...] __data integration__ comprises the practices, architectural techniques and tools for achieving the __consistent access and delivery__ of data across the spectrum of data subject areas and data structure types in the enterprise to meet the data consumption requirements of all applications and business processes.'*"
   ]
  },
  {
   "cell_type": "markdown",
   "metadata": {
    "slideshow": {
     "slide_type": "subslide"
    }
   },
   "source": [
    "#### How do get the data ready for analysis?\n",
    "\n",
    "<img src=\"https://github.com/matjesg/AIS_2019/raw/master/notebooks/images/02/BIStack_ds.png\" width=\"500\">\n",
    "\n",
    "Identify relevant databases\n",
    "\n",
    "- External and internal data sources comprise \n",
    "    - relational and non-relational databases, \n",
    "    - XML, JSON\n",
    "    - flat files (e.g., .csv)\n",
    "    - and many more<br>"
   ]
  },
  {
   "cell_type": "markdown",
   "metadata": {},
   "source": [
    "### Data Warehousing: ETL\n",
    "\n",
    "*from [Wikipedia](https://en.wikipedia.org/wiki/Extract,_transform,_load)*:\n",
    "\n",
    "\"[...] extract, transform, load (ETL) is the general procedure of copying data from one or more sources into a destination system which represents the data differently from the source(s).\"\n",
    "- __Data extraction__ involves extracting data from homogeneous or heterogeneous sources\n",
    "- __Data transformation__ processes data by data cleansing and transforming them into a proper storage format/structure for the purposes of querying and analysis\n",
    "- __Data loading__ describes the insertion of data into the final target database such as an operational data store, a data mart, or a data warehouse.\n",
    "\n",
    "<img src=\"https://github.com/matjesg/AIS_2019/raw/master/notebooks/images/02/BIStack_etl.png\" width=\"500\">"
   ]
  },
  {
   "cell_type": "markdown",
   "metadata": {
    "cell_style": "center",
    "slideshow": {
     "slide_type": "slide"
    }
   },
   "source": [
    "### Data Extraction\n",
    "\n",
    "to extract data from homogeneous or heterogeneous sources\n",
    "\n",
    "<img src=\"https://readr.tidyverse.org/logo.png\" width=\"100\" align=\"right\">\n",
    "\n",
    "- The **readr** package provides a fast and friendly way <br> for reading rectangular data \n",
    "    - File formats: .csv, .tsv, and .fwf\n",
    "    - Part of the core tidyverse\n",
    "```R\n",
    "# Example\n",
    "read_csv(\"file.csv\")\n",
    "```\n"
   ]
  },
  {
   "cell_type": "markdown",
   "metadata": {
    "slideshow": {
     "slide_type": "fragment"
    }
   },
   "source": [
    "- **Packages for other file formats**\n",
    "    - haven - SPSS, Stata, and SAS files \n",
    "    - readxl - excel files (.xls and .xlsx) \n",
    "    - DBI - databases\n",
    "    - jsonlite - json\n",
    "    - xml2 - XML\n",
    "    - httr - Web APIs\n",
    "    - rvest - HTML (Web Scraping)"
   ]
  },
  {
   "cell_type": "markdown",
   "metadata": {
    "slideshow": {
     "slide_type": "subslide"
    }
   },
   "source": [
    "#### Data Import Cheat Sheet\n",
    "\n",
    "- How to read in flat files \n",
    "- Work with the results as tibbles\n",
    "- Reshape messy data\n",
    "\n",
    "[Download here](https://github.com/rstudio/cheatsheets/raw/master/data-import.pdf)"
   ]
  },
  {
   "cell_type": "markdown",
   "metadata": {
    "slideshow": {
     "slide_type": "subslide"
    },
    "toc-hr-collapsed": true,
    "toc-nb-collapsed": true
   },
   "source": [
    "The *dplyr* packages provides a grammar for manipulating tables in R. It can be conceptualized as an alternative to a traditional query language like SQL.\n",
    "\n",
    "Main functions are\n",
    "\n",
    "- *select()* extracts variables/columns as a table\n",
    "\n",
    "- *filter()* extracts rows that meet logical criteria\n",
    "\n",
    "- *group_by()* creates a \"grouped\" copy of a table. *dplyr* functions will manipulate each \"group\" separately and then combine the results\n",
    "\n",
    "- *summarise()* applies summary functions to columns to create a new table of summary statistics based on grouping.\n",
    "\n",
    "- *arrange()* orders rows by values of a column or columns\n",
    "\n",
    "- *mutate()* computes new columns/variables"
   ]
  },
  {
   "cell_type": "markdown",
   "metadata": {
    "slideshow": {
     "slide_type": "subslide"
    }
   },
   "source": [
    "Multiple operations can be executed in sequence using the pipe operator:\n",
    "\n",
    "```R\n",
    "df %>%\n",
    "    filter() %>%\n",
    "    mutate() %>%\n",
    "    arrange()\n",
    "```"
   ]
  },
  {
   "cell_type": "markdown",
   "metadata": {
    "slideshow": {
     "slide_type": "fragment"
    }
   },
   "source": [
    "We will now apply these functions to our student dataset. You can use the  [Cheat Cheat](https://content.cdntwrk.com/files/aT05NjI5Mjgmdj0xJmlzc3VlTmFtZT1kYXRhLXRyYW5zZm9ybWF0aW9uLWNoZWF0LXNoZWV0JmNtZD1kJnNpZz01ZjdlZGUxZDJiM2QwMmYxNDUzODIwYzA0NzE5NTA2YQ%253D%253D) to work on the following tasks. "
   ]
  },
  {
   "cell_type": "markdown",
   "metadata": {
    "slideshow": {
     "slide_type": "subslide"
    }
   },
   "source": [
    "#### Select variables\n",
    "\n",
    "Select the attributes *sex* and *age* from the data"
   ]
  },
  {
   "cell_type": "code",
   "execution_count": null,
   "metadata": {},
   "outputs": [],
   "source": [
    "student_data %>%\n",
    "    select(sex, age)"
   ]
  },
  {
   "cell_type": "markdown",
   "metadata": {
    "slideshow": {
     "slide_type": "subslide"
    }
   },
   "source": [
    "#### Make new variables\n",
    "\n",
    "Calculate the average grade from the first period grade (G1) and the second period grade (G2) in a new columns 'MeanGrade'"
   ]
  },
  {
   "cell_type": "code",
   "execution_count": null,
   "metadata": {},
   "outputs": [],
   "source": [
    "student_data %>%\n",
    "    mutate(\"MeanGrade\" = (G1+G2)/2)"
   ]
  },
  {
   "cell_type": "markdown",
   "metadata": {
    "slideshow": {
     "slide_type": "subslide"
    }
   },
   "source": [
    "#### Extract data\n",
    "Filter only male students"
   ]
  },
  {
   "cell_type": "code",
   "execution_count": null,
   "metadata": {
    "scrolled": true
   },
   "outputs": [],
   "source": [
    "student_data %>%\n",
    "    filter(sex=='M')"
   ]
  },
  {
   "cell_type": "markdown",
   "metadata": {
    "slideshow": {
     "slide_type": "subslide"
    }
   },
   "source": [
    "#### Sorting the data\n",
    "\n",
    "Select only the female students and sort them by age."
   ]
  },
  {
   "cell_type": "code",
   "execution_count": null,
   "metadata": {},
   "outputs": [],
   "source": [
    "student_data %>%\n",
    "    filter(sex=='F') %>%\n",
    "    arrange(-age)"
   ]
  },
  {
   "cell_type": "markdown",
   "metadata": {
    "slideshow": {
     "slide_type": "subslide"
    }
   },
   "source": [
    "#### Summarize the data\n",
    "\n",
    "What is the average absences of the students?"
   ]
  },
  {
   "cell_type": "code",
   "execution_count": null,
   "metadata": {},
   "outputs": [],
   "source": [
    "student_data %>%\n",
    "    summarise(Mean_absences = mean(absences))"
   ]
  },
  {
   "cell_type": "markdown",
   "metadata": {
    "slideshow": {
     "slide_type": "subslide"
    }
   },
   "source": [
    "#### Grouping and summarizing\n",
    "\n",
    "Calculate the average absences of both male and female students"
   ]
  },
  {
   "cell_type": "code",
   "execution_count": null,
   "metadata": {
    "scrolled": true
   },
   "outputs": [],
   "source": [
    "student_data %>%\n",
    "    group_by(age, sex) %>%\n",
    "    summarise(Mean_absences = mean(absences))"
   ]
  },
  {
   "cell_type": "markdown",
   "metadata": {
    "slideshow": {
     "slide_type": "slide"
    }
   },
   "source": [
    "### Data Transformation"
   ]
  },
  {
   "cell_type": "markdown",
   "metadata": {},
   "source": [
    "Data transformation converts the data into a proper storage format/structure for the purposes of querying and analysis\n",
    "- Data cleansing \n",
    "    - Correct syntactical or semantical defects\n",
    "- Data harmonization\n",
    "    - Solving schema heterogeneity \n",
    "    - Solving data-level heterogeneity\n",
    "- Data combination\n",
    "    - Combine the harmonized data sets\n",
    "- Data enrichment\n",
    "    - Calculate frequently required (business) key figures as separate attributes"
   ]
  },
  {
   "cell_type": "markdown",
   "metadata": {
    "slideshow": {
     "slide_type": "subslide"
    }
   },
   "source": [
    "#### Data Cleansing \n",
    "\n",
    "__Correction of syntactical or semantical defects__\n",
    "\n",
    "Depending on the degree of automation in the defect detection and defect correction we distinguish between three classes of defects.<br><br>\n",
    "\n",
    "| <br>               | Automated Correction         | Manual Correction            |\n",
    "|--------------------|------------------------------|------------------------------|\n",
    "| Automated Detection| 1<sup>st</sup> class defects | 2<sup>nd</sup> class defects |\n",
    "| Manual Detection   | -                            | 3<sup>rd</sup> class defects |"
   ]
  },
  {
   "cell_type": "markdown",
   "metadata": {
    "slideshow": {
     "slide_type": "subslide"
    }
   },
   "source": [
    "#### 1<sup>st</sup> class deficiencies\n",
    "\n",
    "Syntactic and semantic deficiencies that are known in advance or can be anticipated.\n",
    "- Syntactic: format, special characters, …\n",
    "- Semantic: missing values in operating systems due to planned maintenance, …\n",
    "\n",
    "→ Deficiencies can be automatically resolved by implementing transformation rules"
   ]
  },
  {
   "cell_type": "markdown",
   "metadata": {
    "slideshow": {
     "slide_type": "subslide"
    }
   },
   "source": [
    "#### 2<sup>nd</sup> class deficiencies\n",
    "\n",
    "Deficiencies that can be automatically identified but have to be removed manually\n",
    "\n",
    "- Syntactic: prior unknown syntactic error are identified for the first time and transferred into transformation rules\n",
    "- Semantic: deficiencies can be identified by automatic plausibility checks or pattern recognition algorithms\n",
    "\n",
    "→ Deficiencies are usually due to errors in the data source, corrective action must be taken at the operational source."
   ]
  },
  {
   "cell_type": "markdown",
   "metadata": {
    "slideshow": {
     "slide_type": "subslide"
    }
   },
   "source": [
    "#### 3<sup>rd</sup> class deficiencies\n",
    "\n",
    "Semantic deficiencies that can only be manually identified and resolved.\n",
    "- Errors in the data set that can only be identified by domain experts\n",
    "\n",
    "→ Prompt correction of the deficiencies can be supported by software tools (Workflow-Management-Systems)"
   ]
  },
  {
   "cell_type": "markdown",
   "metadata": {
    "slideshow": {
     "slide_type": "subslide"
    }
   },
   "source": [
    "#### Data Harmonization"
   ]
  },
  {
   "cell_type": "markdown",
   "metadata": {
    "slideshow": {
     "slide_type": "-"
    }
   },
   "source": [
    "##### Solving Schema Heterogeneity\n",
    "\n",
    "Schemas are created by different people whose states and styles are different\n",
    "- Same concept, but different names for tables and attributes\n",
    "    - rating vs classification\n",
    "- Multiple attributes in first schema relate to a single attribute in the other\n",
    "    - basePrice and taxRate relate to price\n",
    "- Tabular organization of schemas can be quite different\n",
    "    - One table in DB1 vs three tables in DB2\n",
    "- Coverage and level of details can also differ significantly\n",
    "    - Daily sales data vs. monthly sales data\n",
    "    - High-level information (movie name, playtime) vs. detailed meta data (director, genre, rating)\n"
   ]
  },
  {
   "cell_type": "markdown",
   "metadata": {
    "slideshow": {
     "slide_type": "subslide"
    }
   },
   "source": [
    "##### Solving Data-level  Heterogeneity\n",
    "Data coming from different sources rarely joins perfectly\n",
    "\n",
    "Typical reasons include\n",
    "- Differently coded data\n",
    "    - identical attribute names and identical meanings but different domains or value ranges (e.g., gender coded as “m / f” or “male / female”)\n",
    "- Synonyms\n",
    "    - Attributes that have different names but the same meaning and domain (e.g., “client” or “customer”)\n",
    "- Homonyms: \n",
    "    - Attributes have the same attribute names, but have different meanings (e.g., “partner” = “customer” or “partner” = “supplier”)"
   ]
  },
  {
   "cell_type": "markdown",
   "metadata": {
    "slideshow": {
     "slide_type": "subslide"
    }
   },
   "source": [
    "#### Data Combination\n",
    "\n",
    "Combine the harmonized data sets into an appropriate format/structure for further analysis."
   ]
  },
  {
   "cell_type": "markdown",
   "metadata": {
    "slideshow": {
     "slide_type": "subslide"
    }
   },
   "source": [
    "#### Enrich the data\n",
    "\n",
    "- Business key figures are calculated and integrated into the data basis as separate attributes\n",
    "- Example: Calculation of weekly contribution margins at product level and annual contribution margins at store level\n",
    "- Advantages\n",
    "    - Calculable response time behavior for later queries based on the advance calculation\n",
    "    - Guaranteed consistency of the calculated values, since they are only formed once across all applications\n",
    "    - Establishment of coordinated business management instruments"
   ]
  },
  {
   "cell_type": "markdown",
   "metadata": {
    "slideshow": {
     "slide_type": "slide"
    }
   },
   "source": [
    "### Data Loading"
   ]
  },
  {
   "cell_type": "markdown",
   "metadata": {
    "slideshow": {
     "slide_type": "subslide"
    }
   },
   "source": [
    "__Data loading__ describes the insertion of data into the final target database such as an operational data store, a data mart, or a data warehouse (e.g., AWS Redshift or Apache Hive)\n",
    "\n",
    "- A __database__ is an organized collection of cleaned and structured data \n",
    "- A __Database management system (DBMS)__ allows to store, modify, and extract information from a database MySQL, ORACLE, MS SQL, DB2, MS ACCESS, Informix"
   ]
  },
  {
   "cell_type": "markdown",
   "metadata": {
    "slideshow": {
     "slide_type": "subslide"
    }
   },
   "source": [
    "__Working with DBMS: SQL__\n",
    "\n",
    "SQL (Structured Query Language) is the standard language for accessing and manipulating data in databases and allows retrieving and manipulating data as well as administrative operations\n",
    "\n",
    "- A typical SQL command\n",
    "```SQL\n",
    "\tSELECT <column names separated by comma>\n",
    "    FROM <database table>\n",
    "\tWHERE <condition>\n",
    "    GROUP BY <column name>\n",
    "    ORDER BY <column name>\n",
    "```"
   ]
  },
  {
   "cell_type": "markdown",
   "metadata": {
    "slideshow": {
     "slide_type": "subslide"
    }
   },
   "source": [
    "__Using differnte query languages in R__\n",
    "\n",
    "- The *DBI* (Database Interface) package allows communication between R and relational database management systems\n",
    "    - Using a DBI-compliant interface, the *RSQLite* embeds the SQLite database engine in R\n",
    "    - SQLite is a public-domain, single-user, very light-weight database engine that implements a decent subset of the SQL 92 standard,\n",
    "- The packages *dbplyr* (part of the *tidyverse*) is designed to work with database tables as if they were local data frames\n",
    "\n",
    "\n",
    "<img src=\"https://github.com/matjesg/AIS_2019/raw/master/notebooks/images/01/aris.png\" width=\"300\">"
   ]
  },
  {
   "cell_type": "markdown",
   "metadata": {},
   "source": [
    "## Exercises"
   ]
  },
  {
   "cell_type": "markdown",
   "metadata": {
    "slideshow": {
     "slide_type": "subslide"
    }
   },
   "source": [
    "### 1 Data Extraction\n",
    "\n",
    "You are provided with a set of operational data from a retail company. All files are stored online on [github](https://github.com/wi3jmu/AIS_2019/tree/master/notebooks/data/T02).\n",
    "\n",
    "- Transaction data (Comma Delimited Files): \n",
    "    - *'transactions_eng.csv'*\n",
    "    - *'transactions_ger.csv'*\n",
    "   \n",
    "- Customer data (Semi-colon Delimited Files)\n",
    "    - *'customers.csv*\n",
    "    - *'customers_usa.csv*\n",
    "\n",
    "- Product data (Excel Files)\n",
    "    - *'products_convenience.xlsx'*\n",
    "    - *'products.xlsx*"
   ]
  },
  {
   "cell_type": "markdown",
   "metadata": {
    "slideshow": {
     "slide_type": "subslide"
    }
   },
   "source": [
    "- Load the required packages"
   ]
  },
  {
   "cell_type": "code",
   "execution_count": null,
   "metadata": {
    "slideshow": {
     "slide_type": "-"
    }
   },
   "outputs": [],
   "source": [
    "library(tidyverse) # includes the readr package\n",
    "library(readxl) # excel files\n",
    "data_url = 'https://raw.githubusercontent.com/wi3jmu/AIS_2019/master/notebooks/data/T02/'"
   ]
  },
  {
   "cell_type": "markdown",
   "metadata": {
    "slideshow": {
     "slide_type": "subslide"
    }
   },
   "source": [
    "#### 1.1 Load the provided files .csv files\n",
    "\n",
    "- Use `read_csv2`\n",
    "- Use `paste0` to concatenate the `data_url` and the file name\n",
    "\n",
    "Example:\n",
    "```R\n",
    "customers <- read_csv2(paste0(data_url, 'customers.csv'))\n",
    "```"
   ]
  },
  {
   "cell_type": "code",
   "execution_count": null,
   "metadata": {},
   "outputs": [],
   "source": [
    "customers <- read_csv2(paste0(data_url, 'customers.csv'))\n",
    "customers_usa <- read_csv2(paste0(data_url, 'customers_usa.csv'))\n",
    "\n",
    "transactions_eng <- read_csv2(paste0(data_url, 'transactions_eng.csv'))\n",
    "transactions_ger <- read_csv2(paste0(data_url, 'transactions_ger.csv'))"
   ]
  },
  {
   "cell_type": "markdown",
   "metadata": {},
   "source": [
    "#### 1.2 Load the provided files .xlsx files\n",
    "- Firstly, download the files using `downlaod.file`\n",
    "- Read use `read_xlsx` to read excel files\n",
    "\n",
    "Example:\n",
    "```R\n",
    "download.file(url=paste0(data_url, 'products.xlsx'), destfile='products.xlsx')\n",
    "products <- read_excel('products.xlsx')\n",
    "```"
   ]
  },
  {
   "cell_type": "code",
   "execution_count": null,
   "metadata": {},
   "outputs": [],
   "source": [
    "download.file(url=paste0(data_url, 'products.xlsx'), destfile='products.xlsx')\n",
    "products <- read_excel('products.xlsx')\n",
    "\n",
    "download.file(url=paste0(data_url, 'products.xlsx'), destfile='products_convenience.xlsx')\n",
    "products_convenience <- read_xlsx('products_convenience.xlsx')"
   ]
  },
  {
   "cell_type": "markdown",
   "metadata": {
    "slideshow": {
     "slide_type": "subslide"
    }
   },
   "source": [
    "#### 1.3 Get to know the data"
   ]
  },
  {
   "cell_type": "markdown",
   "metadata": {
    "slideshow": {
     "slide_type": "subslide"
    }
   },
   "source": [
    "Take a look at the data \n",
    "```R\n",
    "head()\n",
    "sample_n()\n",
    "```"
   ]
  },
  {
   "cell_type": "code",
   "execution_count": null,
   "metadata": {},
   "outputs": [],
   "source": [
    "products_convenience %>% head()"
   ]
  },
  {
   "cell_type": "markdown",
   "metadata": {
    "slideshow": {
     "slide_type": "subslide"
    }
   },
   "source": [
    "Check that all data is read in correctly\n",
    "\n",
    "```R\n",
    "nrow(), ncol(), colnames()\n",
    "```"
   ]
  },
  {
   "cell_type": "code",
   "execution_count": null,
   "metadata": {},
   "outputs": [],
   "source": [
    "customers_usa %>% nrow()"
   ]
  },
  {
   "cell_type": "markdown",
   "metadata": {
    "slideshow": {
     "slide_type": "subslide"
    }
   },
   "source": [
    "Understand the rows and columns (observations and variables)\n",
    "```R\n",
    "glimpse()\n",
    "summary()\n",
    "```"
   ]
  },
  {
   "cell_type": "code",
   "execution_count": null,
   "metadata": {},
   "outputs": [],
   "source": [
    "products_convenience %>% summary()"
   ]
  },
  {
   "cell_type": "markdown",
   "metadata": {
    "slideshow": {
     "slide_type": "subslide"
    }
   },
   "source": [
    "### 2 Data Tranformation\n",
    "\n",
    "#### 2.1 Resolve 1st class deficiencies\n",
    "\n",
    "Find the syntactic in the products convenience data sets\n",
    "\n",
    "- `products_convenience`: look at price and costs\n",
    "- `customers_usa`: look at the names"
   ]
  },
  {
   "cell_type": "code",
   "execution_count": null,
   "metadata": {},
   "outputs": [],
   "source": [
    "products_convenience %>% head()"
   ]
  },
  {
   "cell_type": "code",
   "execution_count": null,
   "metadata": {},
   "outputs": [],
   "source": [
    "customers_usa %>% head()"
   ]
  },
  {
   "cell_type": "markdown",
   "metadata": {
    "slideshow": {
     "slide_type": "subslide"
    }
   },
   "source": [
    "Implement transformation rules to resolve the deficiencies\n",
    "- Transformation rules can be implemented as pipes\n",
    "- You will have to use mutate() in combination with *str_replace()* and/or *str_split()*"
   ]
  },
  {
   "cell_type": "code",
   "execution_count": null,
   "metadata": {},
   "outputs": [],
   "source": [
    "products_convenience %>%\n",
    "    mutate(price = as.numeric(str_replace(price,' €', \"\")),\n",
    "           cost = as.numeric(str_replace(cost, ' €', \"\"))) -> products_convenience"
   ]
  },
  {
   "cell_type": "code",
   "execution_count": null,
   "metadata": {},
   "outputs": [],
   "source": [
    "customers_usa %>%\n",
    "    mutate(firstNames = str_split(string = name, pattern = ', ', simplify = TRUE)[, 1],\n",
    "           lastNames = str_split(string = name, pattern = ', ', simplify = TRUE)[, 2]) %>%\n",
    "    select(-name) -> customers_usa"
   ]
  },
  {
   "cell_type": "markdown",
   "metadata": {
    "slideshow": {
     "slide_type": "subslide"
    }
   },
   "source": [
    "#### 2. Resolve 2<sup>nd</sup> class deficiencies*\n",
    "\n",
    "- Perform plausibility checks (min, mean, max, …) to identify deficiencies in the product data \n"
   ]
  },
  {
   "cell_type": "code",
   "execution_count": null,
   "metadata": {},
   "outputs": [],
   "source": [
    "products %>%\n",
    "    summary()"
   ]
  },
  {
   "cell_type": "code",
   "execution_count": null,
   "metadata": {},
   "outputs": [],
   "source": [
    "products_convenience %>%\n",
    "    summary()"
   ]
  },
  {
   "cell_type": "markdown",
   "metadata": {
    "cell_style": "center",
    "slideshow": {
     "slide_type": "subslide"
    }
   },
   "source": [
    "- Implement transformation rules to resolve the deficiencies. <br> If you identify errors or missing values you can either:\n",
    "    - Keep the errors / missing values\n",
    "    - Remove the observations\n",
    "    - Impute the values"
   ]
  },
  {
   "cell_type": "markdown",
   "metadata": {
    "slideshow": {
     "slide_type": "subslide"
    }
   },
   "source": [
    "- remove"
   ]
  },
  {
   "cell_type": "code",
   "execution_count": null,
   "metadata": {},
   "outputs": [],
   "source": [
    "products %>%\n",
    "    filter(cost >= 0, price >= 0) -> products_fil\n",
    "products_convenience %>%\n",
    "    filter(cost >= 0, price >= 0) -> products_convenience_fil"
   ]
  },
  {
   "cell_type": "markdown",
   "metadata": {
    "slideshow": {
     "slide_type": "fragment"
    }
   },
   "source": [
    "- impute"
   ]
  },
  {
   "cell_type": "code",
   "execution_count": null,
   "metadata": {
    "slideshow": {
     "slide_type": "-"
    }
   },
   "outputs": [],
   "source": [
    "products %>%\n",
    "    mutate(price = if_else(price < 0, mean(price), price),\n",
    "           cost = if_else(cost < 0, mean(cost), cost))"
   ]
  },
  {
   "cell_type": "markdown",
   "metadata": {
    "slideshow": {
     "slide_type": "subslide"
    }
   },
   "source": [
    "#### 2.3 Resolve 3<sup>rd</sup> class deficiencies*\n",
    "\n",
    "- Find the semantic 3<sup>rd</sup> class deficiencies in the customer data\n",
    "    - `customer`: Take a closer look at the countries"
   ]
  },
  {
   "cell_type": "code",
   "execution_count": null,
   "metadata": {},
   "outputs": [],
   "source": [
    "customers %>%\n",
    "    distinct(country)"
   ]
  },
  {
   "cell_type": "markdown",
   "metadata": {
    "slideshow": {
     "slide_type": "subslide"
    }
   },
   "source": [
    "- Resolve the deficiencies"
   ]
  },
  {
   "cell_type": "code",
   "execution_count": null,
   "metadata": {},
   "outputs": [],
   "source": [
    "customers %>%\n",
    "    filter(country != 'moon') -> customers_filtered"
   ]
  },
  {
   "cell_type": "markdown",
   "metadata": {
    "slideshow": {
     "slide_type": "subslide"
    }
   },
   "source": [
    "#### 2.4 Data Harmonization - Schema Heterogeneity\n",
    "\n",
    "Find and harmonize schema heterogeneity in transaction data sets\n",
    "- Look at the attribute names\n",
    "- Adjust the transactions_ger to the schema of transactions_eng"
   ]
  },
  {
   "cell_type": "code",
   "execution_count": null,
   "metadata": {},
   "outputs": [],
   "source": [
    "colnames(transactions_ger)\n",
    "colnames(transactions_eng)\n",
    "\n",
    "colnames(transactions_ger) <- colnames(transactions_eng)"
   ]
  },
  {
   "cell_type": "markdown",
   "metadata": {
    "slideshow": {
     "slide_type": "subslide"
    }
   },
   "source": [
    "#### 2.4 Data Harmonization - Data-level Heterogeneity\n",
    "\n",
    "Find and harmonize data-level heterogeneity in the customer data sets\n",
    "- Take a closer look to the variables names as well as the variable values\n",
    "- Adjust the `customers_usa` to the schema of `customers`"
   ]
  },
  {
   "cell_type": "code",
   "execution_count": null,
   "metadata": {},
   "outputs": [],
   "source": []
  },
  {
   "cell_type": "markdown",
   "metadata": {
    "slideshow": {
     "slide_type": "subslide"
    }
   },
   "source": [
    "#### 2.5 Combine the data\n",
    "\n",
    "- Combine the harmonised data sets\n",
    "    - Create three new data sets: `customers`, `transactions`, `products`\n",
    "    - Use *bind_rows()* for binding multiple data frames by row"
   ]
  },
  {
   "cell_type": "code",
   "execution_count": null,
   "metadata": {},
   "outputs": [],
   "source": []
  },
  {
   "cell_type": "markdown",
   "metadata": {
    "slideshow": {
     "slide_type": "subslide"
    }
   },
   "source": [
    "- Join the three data sets into one data final data frame"
   ]
  },
  {
   "cell_type": "code",
   "execution_count": null,
   "metadata": {},
   "outputs": [],
   "source": []
  },
  {
   "cell_type": "markdown",
   "metadata": {
    "slideshow": {
     "slide_type": "subslide"
    }
   },
   "source": [
    "#### 2.6 Enrich the data\n",
    "\n",
    "Create two new variables:\n",
    "    - revenue per transaction\n",
    "    - profit per transaction"
   ]
  },
  {
   "cell_type": "code",
   "execution_count": null,
   "metadata": {},
   "outputs": [],
   "source": []
  },
  {
   "cell_type": "markdown",
   "metadata": {},
   "source": [
    "### 3 Data Loading"
   ]
  },
  {
   "cell_type": "markdown",
   "metadata": {
    "slideshow": {
     "slide_type": "subslide"
    }
   },
   "source": [
    "We’ll first create an in-memory SQLite database. We also need to install the `RSQLite` package."
   ]
  },
  {
   "cell_type": "code",
   "execution_count": null,
   "metadata": {},
   "outputs": [],
   "source": [
    "install.packages('RSQLite')\n",
    "con <- DBI::dbConnect(RSQLite::SQLite(), \":memory:\")"
   ]
  },
  {
   "cell_type": "markdown",
   "metadata": {
    "slideshow": {
     "slide_type": "fragment"
    }
   },
   "source": [
    "and copy over our dataset"
   ]
  },
  {
   "cell_type": "code",
   "execution_count": null,
   "metadata": {},
   "outputs": [],
   "source": [
    "copy_to(con, data_enriched)"
   ]
  },
  {
   "cell_type": "markdown",
   "metadata": {
    "slideshow": {
     "slide_type": "subslide"
    }
   },
   "source": [
    "Now you can retrieve a table using `tbl()` . Printing it just retrieves the first few rows:"
   ]
  },
  {
   "cell_type": "code",
   "execution_count": null,
   "metadata": {},
   "outputs": [],
   "source": [
    "db <- tbl(con, \"data_enriched\")\n",
    "db"
   ]
  },
  {
   "cell_type": "markdown",
   "metadata": {
    "slideshow": {
     "slide_type": "subslide"
    }
   },
   "source": [
    "- (Lazily) generate query"
   ]
  },
  {
   "cell_type": "code",
   "execution_count": null,
   "metadata": {},
   "outputs": [],
   "source": [
    "db %>%\n",
    "    filter(payment == 'cash') %>%\n",
    "    summarise(MeanAmount = mean(amount, na.rm = TRUE)) -> summary"
   ]
  },
  {
   "cell_type": "markdown",
   "metadata": {
    "slideshow": {
     "slide_type": "fragment"
    }
   },
   "source": [
    "- See query"
   ]
  },
  {
   "cell_type": "code",
   "execution_count": null,
   "metadata": {},
   "outputs": [],
   "source": [
    "summary %>% show_query()"
   ]
  },
  {
   "cell_type": "markdown",
   "metadata": {
    "slideshow": {
     "slide_type": "fragment"
    }
   },
   "source": [
    "- Execute query and retrieve results"
   ]
  },
  {
   "cell_type": "code",
   "execution_count": null,
   "metadata": {},
   "outputs": [],
   "source": [
    "summary %>% collect()"
   ]
  },
  {
   "cell_type": "markdown",
   "metadata": {
    "slideshow": {
     "slide_type": "subslide"
    }
   },
   "source": [
    "#### 3.1 Analyze the data\n",
    "\n",
    "Use the database connection to answer the following question:\n",
    "\n",
    "__How much profit did the company realize in 2017?__"
   ]
  },
  {
   "cell_type": "markdown",
   "metadata": {
    "slideshow": {
     "slide_type": "fragment"
    }
   },
   "source": [
    "- Generate query"
   ]
  },
  {
   "cell_type": "code",
   "execution_count": null,
   "metadata": {},
   "outputs": [],
   "source": [
    "db %>%\n",
    "    summarise(totalProfit = sum(profit, na.rm = TRUE)) -> profit"
   ]
  },
  {
   "cell_type": "markdown",
   "metadata": {
    "slideshow": {
     "slide_type": "fragment"
    }
   },
   "source": [
    "- See query"
   ]
  },
  {
   "cell_type": "code",
   "execution_count": null,
   "metadata": {
    "slideshow": {
     "slide_type": "-"
    }
   },
   "outputs": [],
   "source": [
    "profit %>% show_query()"
   ]
  },
  {
   "cell_type": "markdown",
   "metadata": {
    "slideshow": {
     "slide_type": "fragment"
    }
   },
   "source": [
    "- Execute query and retrieve results"
   ]
  },
  {
   "cell_type": "code",
   "execution_count": null,
   "metadata": {
    "slideshow": {
     "slide_type": "-"
    }
   },
   "outputs": [],
   "source": [
    "profit %>% collect()"
   ]
  },
  {
   "cell_type": "markdown",
   "metadata": {
    "slideshow": {
     "slide_type": "subslide"
    }
   },
   "source": [
    "### 4 Exam Questions\n",
    "\n",
    "Exam AIS SS 2018, Question 1\n",
    "\n",
    "__Data Engineering & Integration (10 points)__"
   ]
  },
  {
   "cell_type": "markdown",
   "metadata": {
    "slideshow": {
     "slide_type": "fragment"
    }
   },
   "source": [
    "(a) __Getting orders in order__: You are working for a major online retailer who is interested in optimizing internal logistics processes. A key problem in this context is the handling of __orders with a single line item__ vs. __orders with multiple line items__.\n",
    "\n",
    "The cornerstone of your analysis is an orders table with the following structure:<br>\n",
    "\n",
    "<left>\n",
    "    \n",
    "\\begin{array}{cccc}  \n",
    "\\hline\n",
    "productID & quantity & orderID  \\\\ \n",
    "  \\hline\n",
    "...&...&...\\\\\n",
    "\\end{array}\n",
    "    \n",
    "</left>"
   ]
  },
  {
   "cell_type": "markdown",
   "metadata": {
    "slideshow": {
     "slide_type": "subslide"
    }
   },
   "source": [
    "i. (1 points) Explain (verbally or in pseudo code) how you would identify the number of orders with a single line item from this data base."
   ]
  },
  {
   "cell_type": "code",
   "execution_count": null,
   "metadata": {
    "cell_style": "split",
    "slideshow": {
     "slide_type": "fragment"
    }
   },
   "outputs": [],
   "source": [
    "# Toy example for demonstration\n",
    "order_data = tribble(\n",
    "     ~productID, ~quantity, ~orderID,\n",
    "    \"Prod1\",     2,         \"Ord1\",\n",
    "    \"Prod2\",     3,         \"Ord1\",\n",
    "    \"Prod3\",     4,         \"Ord1\",\n",
    "    \"Prod2\",     5,         \"Ord2\",\n",
    "    \"Prod1\",     2,         \"Ord3\",\n",
    "    \"Prod3\",     1,         \"Ord3\",\n",
    "    \"Prod3\",     1,         \"Ord4\")"
   ]
  },
  {
   "cell_type": "code",
   "execution_count": null,
   "metadata": {
    "cell_style": "split",
    "slideshow": {
     "slide_type": "fragment"
    }
   },
   "outputs": [],
   "source": [
    "order_data %>%\n",
    "    group_by(orderID) %>%\n",
    "    filter(n() == 1) %>%\n",
    "    nrow()"
   ]
  },
  {
   "cell_type": "markdown",
   "metadata": {
    "cell_style": "split",
    "slideshow": {
     "slide_type": "fragment"
    }
   },
   "source": [
    "alternatively, "
   ]
  },
  {
   "cell_type": "code",
   "execution_count": null,
   "metadata": {
    "cell_style": "split"
   },
   "outputs": [],
   "source": [
    "order_data %>%\n",
    "    group_by(orderID) %>%\n",
    "    summarise(nItems = n()) %>%\n",
    "    filter(nItems == 1) %>%\n",
    "    nrow()"
   ]
  },
  {
   "cell_type": "markdown",
   "metadata": {
    "slideshow": {
     "slide_type": "subslide"
    }
   },
   "source": [
    "i. (2 points) The frontend reporting tool used by the logistics department cannot handle data sets with more than 1 million rows. Yet your order table has many more rows. Recognizing that individual product IDs are not crucial for the logistics process analysis (handling times are determined by the number of products in an order) you are approached to provide ___a compact representation which retains the structure (number of line items) of the order invoices___. Explain how this can be achieved by means of clever aggregation."
   ]
  },
  {
   "cell_type": "code",
   "execution_count": null,
   "metadata": {
    "slideshow": {
     "slide_type": "fragment"
    }
   },
   "outputs": [],
   "source": [
    "order_data %>%\n",
    "    group_by(orderID) %>%\n",
    "    summarise(nItems = n()) "
   ]
  },
  {
   "cell_type": "markdown",
   "metadata": {
    "slideshow": {
     "slide_type": "subslide"
    }
   },
   "source": [
    "(b) (3 Points) __Here comes the sun__: You are working for a local crime investigation unit and your current assignment involves a series of burglary cases. The head of the investigation wants to know __which share of the of the break-ins took place during night-time__ (i.e., between sunset and sunrise). You are provided with a table of the time and date for the burglary events as well as a table of sunrise and sunset times for all dates in the time period under consideration. Provide an analytic pipeline (verbally or in pseudo code) to answer this question.\n",
    "\n",
    "\\begin{array}{ccc}\n",
    "  \\hline\n",
    "date & time & crimeID  \\\\ \n",
    "  \\hline\n",
    "...&...&...\\\\\n",
    "\\end{array}\n",
    "\n",
    "\\begin{array}{ccc}\n",
    "  \\hline\n",
    "date & sunriseTime & sunsetTime  \\\\ \n",
    "  \\hline\n",
    "...&...&...\\\\\n",
    "\\end{array}"
   ]
  },
  {
   "cell_type": "markdown",
   "metadata": {
    "slideshow": {
     "slide_type": "fragment"
    }
   },
   "source": [
    "```R\n",
    "table_crime %>%\n",
    "    left_join(table_sun) %>%\n",
    "    mutate(nT = (time <= sunriseTime) | (time >=  sunsetTime)) %>%\n",
    "    summarize(mean(nT))      \n",
    "```"
   ]
  },
  {
   "cell_type": "markdown",
   "metadata": {
    "slideshow": {
     "slide_type": "subslide"
    }
   },
   "source": [
    "or\n",
    "```R\n",
    "table_crime %>%\n",
    "    left_join(table_sun) %>%\n",
    "    rowwise() %>%\n",
    "    mutate(nT = !(between(time, sunriseTime, sunsetTime)) %>%\n",
    "    summarize(mean(nT))      \n",
    "```"
   ]
  }
 ],
 "metadata": {
  "kernelspec": {
   "display_name": "R",
   "language": "R",
   "name": "ir"
  },
  "language_info": {
   "codemirror_mode": "r",
   "file_extension": ".r",
   "mimetype": "text/x-r-source",
   "name": "R",
   "pygments_lexer": "r",
   "version": "3.6.1"
  },
  "rise": {
   "enable_chalkboard": false,
   "overlay": "<div class='logo'><img src='images/uniwue4c.png'></div>",
   "scroll": true
  },
  "toc": {
   "base_numbering": 1,
   "nav_menu": {},
   "number_sections": false,
   "sideBar": true,
   "skip_h1_title": true,
   "title_cell": "Agenda",
   "title_sidebar": "Contents",
   "toc_cell": true,
   "toc_position": {},
   "toc_section_display": true,
   "toc_window_display": false
  },
  "toc-autonumbering": false,
  "toc-showcode": false,
  "toc-showmarkdowntxt": true,
  "toc-showtags": true
 },
 "nbformat": 4,
 "nbformat_minor": 4
}
