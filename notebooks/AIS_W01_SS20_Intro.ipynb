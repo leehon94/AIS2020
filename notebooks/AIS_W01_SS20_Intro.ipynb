{
  "nbformat": 4,
  "nbformat_minor": 0,
  "metadata": {
    "kernelspec": {
      "display_name": "R",
      "language": "R",
      "name": "ir"
    },
    "language_info": {
      "codemirror_mode": "r",
      "file_extension": ".r",
      "mimetype": "text/x-r-source",
      "name": "R",
      "pygments_lexer": "r",
      "version": "3.6.1"
    },
    "rise": {
      "enable_chalkboard": false,
      "overlay": "<div class='logo'><img src='images/uniwue4c.png'></div>",
      "scroll": true
    },
    "toc": {
      "base_numbering": 1,
      "nav_menu": {},
      "number_sections": false,
      "sideBar": true,
      "skip_h1_title": true,
      "title_cell": "Agenda",
      "title_sidebar": "Contents",
      "toc_cell": true,
      "toc_position": {},
      "toc_section_display": true,
      "toc_window_display": false
    },
    "toc-autonumbering": false,
    "toc-showmarkdowntxt": true,
    "toc-showtags": false,
    "colab": {
      "name": "AIS_W01_SS20_Intro.ipynb",
      "provenance": []
    }
  },
  "cells": [
    {
      "cell_type": "markdown",
      "metadata": {
        "id": "19WySn1P8V1U",
        "colab_type": "text"
      },
      "source": [
        "*Analytical Information Systems*\n",
        "\n",
        "# Worksheet 1 - Introduction to Jupyter and R Analytic Pipelines\n",
        "\n",
        "Matthias Griebel<br>\n",
        "Lehrstuhl für Wirtschaftsinformatik und Informationsmanagement\n",
        "\n",
        "SS 2020"
      ]
    },
    {
      "cell_type": "markdown",
      "metadata": {
        "id": "VnE3hANj8V1V",
        "colab_type": "text"
      },
      "source": [
        "## Jupyter and R Working Environment"
      ]
    },
    {
      "cell_type": "markdown",
      "metadata": {
        "cell_style": "center",
        "id": "2SlM3NUP8V1W",
        "colab_type": "text"
      },
      "source": [
        "__We will be using R__\n",
        "\n",
        "<img src=\"https://upload.wikimedia.org/wikipedia/commons/thumb/1/1b/R_logo.svg/724px-R_logo.svg.png\" width=\"100\" align=\"right\">\n",
        "\n",
        "\n",
        "R is not the only language that can be used for data analysis. Why R rather than another?\n",
        "- interactive language\n",
        "- data structures & functions\n",
        "- graphics\n",
        "- packages & community!\n",
        "\n"
      ]
    },
    {
      "cell_type": "markdown",
      "metadata": {
        "cell_style": "center",
        "id": "m6Efcfy-8V1X",
        "colab_type": "text"
      },
      "source": [
        "__... and tidyverse__\n",
        "\n",
        "<img src=\"https://github.com/matjesg/AIS_2019/raw/master/notebooks/images/01/ecosystem.png\" width=\"300\" align=\"right\">\n",
        "\n",
        "The [tidyverse](https://www.tidyverse.org) is a collection of R packages that share common philosophies and are designed to work together.\n",
        "\n",
        "- Reuse existing data structures\n",
        "- Compose simple functions with the pipe\n",
        "- Embrace functional programming\n",
        "- Design for humans\n",
        "\n",
        "\n"
      ]
    },
    {
      "cell_type": "markdown",
      "metadata": {
        "id": "bKfbS1968V1Y",
        "colab_type": "text"
      },
      "source": [
        "__within the Jupyter Ecosystem__\n",
        "\n",
        "Project Jupyter exists to develop open-source software, open-standards, and services for interactive computing across dozens of programming languages (https://jupyter.org/)."
      ]
    },
    {
      "cell_type": "markdown",
      "metadata": {
        "id": "L5f3H6tP8V1Z",
        "colab_type": "text"
      },
      "source": [
        "### The Jupyter Notebook (this!)\n",
        "\n",
        "<img src=\"https://upload.wikimedia.org/wikipedia/commons/thumb/3/38/Jupyter_logo.svg/250px-Jupyter_logo.svg.png\" width=\"100\" align=\"right\">\n",
        "\n",
        "- open-source web application \n",
        "- create and share documents that contain\n",
        "    - live code and narrative text\n",
        "    - data cleaning and transformation\n",
        "    - numerical simulation\n",
        "    - statistical modeling \n",
        "    - data visualization\n",
        "    - machine learning\n",
        "    - and much more "
      ]
    },
    {
      "cell_type": "markdown",
      "metadata": {
        "id": "AJqcX8WM8V1Z",
        "colab_type": "text"
      },
      "source": [
        "__Jupyter Notebooks Cells__\n",
        "- A Markdown cell (this cell) contains text formatted using Markdown and displays its output in-place when it is run\n",
        "- A code cell contains code to be executed in the kernel and displays its output below"
      ]
    },
    {
      "cell_type": "markdown",
      "metadata": {
        "id": "qbLwUAqY8V1a",
        "colab_type": "text"
      },
      "source": [
        "Now, write and run your first code in the next cell and run the code\n",
        "```R\n",
        "string <- \"your text\"\n",
        "print(string)\n",
        "```"
      ]
    },
    {
      "cell_type": "code",
      "metadata": {
        "id": "vqeEng-b8V1b",
        "colab_type": "code",
        "colab": {}
      },
      "source": [
        "string <- \"hello world\"\n",
        "print(string)"
      ],
      "execution_count": 0,
      "outputs": []
    },
    {
      "cell_type": "markdown",
      "metadata": {
        "id": "UCUAEyWk8V1h",
        "colab_type": "text"
      },
      "source": [
        "### Google Colab"
      ]
    },
    {
      "cell_type": "markdown",
      "metadata": {
        "id": "a97A5MSr8V1i",
        "colab_type": "text"
      },
      "source": [
        "<img alt=\"Colaboratory logo\" height=\"45px\" src=\"https://colab.research.google.com/img/colab_favicon.ico\" align=\"right\" hspace=\"10px\" vspace=\"0px\">\n",
        "\n",
        "[Colaboratory](https://colab.research.google.com/) is a free Jupyter notebook environment that requires no setup and runs entirely in the cloud.\n",
        "\n",
        "With Colaboratory you can \n",
        "- write and execute code, \n",
        "- save and share your analyses, and \n",
        "- access powerful computing resources (GPU and TPU), \n",
        "\n",
        "all for free from your browser. [More information](https://colab.research.google.com/notebooks/welcome.ipynb)"
      ]
    },
    {
      "cell_type": "markdown",
      "metadata": {
        "toc-hr-collapsed": true,
        "toc-nb-collapsed": true,
        "id": "s5BPOxfq8V1j",
        "colab_type": "text"
      },
      "source": [
        "### R Programming"
      ]
    },
    {
      "cell_type": "markdown",
      "metadata": {
        "id": "dO1wCfQ68V1k",
        "colab_type": "text"
      },
      "source": [
        "#### R Packages\n",
        "\n",
        "Packages are the fundamental units of reproducible R code. They include reusable R functions, the documentation that describes how to use them, and sample data. \n",
        "\n",
        "Example: Install and load the *tidyverse*\n",
        "```R\n",
        "# install\n",
        "install.packages('tidyverse')\n",
        "# load\n",
        "library(tidyverse)\n",
        "```"
      ]
    },
    {
      "cell_type": "markdown",
      "metadata": {
        "id": "cD_-gj1O8V1k",
        "colab_type": "text"
      },
      "source": [
        "The *tidyverse* package is already pre-installed, so we just need to load them"
      ]
    },
    {
      "cell_type": "code",
      "metadata": {
        "scrolled": true,
        "id": "_8lo7BRy8V1l",
        "colab_type": "code",
        "colab": {}
      },
      "source": [
        "library(tidyverse)"
      ],
      "execution_count": 0,
      "outputs": []
    },
    {
      "cell_type": "markdown",
      "metadata": {
        "id": "_l0AhfQb8V1o",
        "colab_type": "text"
      },
      "source": [
        "#### Operators in R"
      ]
    },
    {
      "cell_type": "markdown",
      "metadata": {
        "id": "_0AqrfXo8V1p",
        "colab_type": "text"
      },
      "source": [
        "#### Assignment operators\n",
        "\n",
        "These operators are used to assign values to variables\n",
        "<table style=\"font-size: 100%;\">\n",
        "<tbody>\n",
        "<tr>\n",
        "<th>Operator</th>\n",
        "<th>Description</th>\n",
        "</tr>\n",
        "<tr>\n",
        "<td>&lt;-, =</td>\n",
        "<td>Leftwards assignment</td>\n",
        "</tr>\n",
        "<tr>\n",
        "<td>-&gt;</td>\n",
        "<td>Rightwards assignment</td>\n",
        "</tr>\n",
        "</tbody>\n",
        "</table>"
      ]
    },
    {
      "cell_type": "code",
      "metadata": {
        "id": "LXSnM1MP8V1q",
        "colab_type": "code",
        "colab": {}
      },
      "source": [
        "x <- 5\n",
        "x"
      ],
      "execution_count": 0,
      "outputs": []
    },
    {
      "cell_type": "markdown",
      "metadata": {
        "id": "2pySpL648V1u",
        "colab_type": "text"
      },
      "source": [
        "#### Arithmetic operators\n",
        "\n",
        "These operators are used to carry out mathematical operations like addition and multiplication.\n",
        "\n",
        "<table style=\"font-size: 100%;\">\n",
        "<tbody>\n",
        "<tr>\n",
        "<th>Operator</th>\n",
        "<th>Description</th>\n",
        "</tr>\n",
        "<tr>\n",
        "<td>+</td>\n",
        "<td>Addition</td>\n",
        "</tr>\n",
        "<tr>\n",
        "<td>&#8211;</td>\n",
        "<td>Subtraction</td>\n",
        "</tr>\n",
        "<tr>\n",
        "<td>*</td>\n",
        "<td>Multiplication</td>\n",
        "</tr>\n",
        "<tr>\n",
        "<td>/</td>\n",
        "<td>Division</td>\n",
        "</tr>\n",
        "<tr>\n",
        "<td>^</td>\n",
        "<td>Exponent</td>\n",
        "</tr>\n",
        "<tr>\n",
        "<td>%%</td>\n",
        "<td>Modulus (Remainder from division)</td>\n",
        "</tr>\n",
        "<tr>\n",
        "<td>%/%</td>\n",
        "<td>Integer Division</td>\n",
        "</tr>\n",
        "</tbody>\n",
        "</table>"
      ]
    },
    {
      "cell_type": "code",
      "metadata": {
        "id": "iNC-tmBw8V1v",
        "colab_type": "code",
        "colab": {}
      },
      "source": [
        "x^10"
      ],
      "execution_count": 0,
      "outputs": []
    },
    {
      "cell_type": "markdown",
      "metadata": {
        "id": "TnHh46cM8V1z",
        "colab_type": "text"
      },
      "source": [
        "#### Relational operators\n",
        "Relational operators test or define some kind of relation between two entities/values\n",
        "<table style=\"font-size: 100%;\">\n",
        "<tbody>\n",
        "<tr>\n",
        "<th>Operator</th>\n",
        "<th>Description</th>\n",
        "</tr>\n",
        "<tr>\n",
        "<td>&lt;</td>\n",
        "<td>Less than</td>\n",
        "</tr>\n",
        "<tr>\n",
        "<td>&gt;</td>\n",
        "<td>Greater than</td>\n",
        "</tr>\n",
        "<tr>\n",
        "<td>&lt;=</td>\n",
        "<td>Less than or equal to</td>\n",
        "</tr>\n",
        "<tr>\n",
        "<td>&gt;=</td>\n",
        "<td>Greater than or equal to</td>\n",
        "</tr>\n",
        "<tr>\n",
        "<td>==</td>\n",
        "<td>Equal to</td>\n",
        "</tr>\n",
        "<tr>\n",
        "<td>!=</td>\n",
        "<td>Not equal to</td>\n",
        "</tr>\n",
        "</tbody>\n",
        "</table>"
      ]
    },
    {
      "cell_type": "code",
      "metadata": {
        "id": "XMAGyzGu8V1z",
        "colab_type": "code",
        "colab": {}
      },
      "source": [
        "x < 10"
      ],
      "execution_count": 0,
      "outputs": []
    },
    {
      "cell_type": "markdown",
      "metadata": {
        "id": "e7_yCAK28V13",
        "colab_type": "text"
      },
      "source": [
        "#### The pipe operator\n",
        "\n",
        "<img src=\"https://github.com/matjesg/AIS_2019/raw/master/notebooks/images/01/pipes.png\" width=\"150\">\n",
        "\n",
        "Pipes are a powerful tool for clearly expressing a sequence of multiple operations.<br>\n",
        "\n",
        "In a pipe, we can rewrite the code as follows\n",
        "```R\n",
        "string %>%\n",
        "    print()\n",
        "```"
      ]
    },
    {
      "cell_type": "code",
      "metadata": {
        "id": "XBU9nSRH8V13",
        "colab_type": "code",
        "colab": {}
      },
      "source": [
        "string %>%\n",
        "    print()"
      ],
      "execution_count": 0,
      "outputs": []
    },
    {
      "cell_type": "markdown",
      "metadata": {
        "toc-hr-collapsed": true,
        "toc-nb-collapsed": true,
        "id": "PLxi12No8V16",
        "colab_type": "text"
      },
      "source": [
        "### Relational Data and Data Frames"
      ]
    },
    {
      "cell_type": "markdown",
      "metadata": {
        "id": "UvyY4jiE8V17",
        "colab_type": "text"
      },
      "source": [
        "__ARIS Data View__\n",
        "\n",
        "<img src=\"https://github.com/matjesg/AIS_2019/raw/master/notebooks/images/01/aris.png\" width=\"500\">"
      ]
    },
    {
      "cell_type": "markdown",
      "metadata": {
        "id": "BMafU1kb8V18",
        "colab_type": "text"
      },
      "source": [
        "The relational model represents the database as a collection of relations (= tables, in R: *data frames* or *tibbles*).\n",
        "\n",
        "- Each row of a table represents a list of related data values (= data record). Such a line is referred to as a \"tuple”\n",
        "- A column corresponds to an attribute\n",
        "    - Attributes are assigned a data type, format, or value range \n",
        "    - Each attribute value is atomic and cannot be further broken down into components"
      ]
    },
    {
      "cell_type": "markdown",
      "metadata": {
        "id": "jxf22wsi8V18",
        "colab_type": "text"
      },
      "source": [
        "#### Working on the Student Performance Data Set \n",
        "\n",
        "The [data set](https://rstudio-pubs-static.s3.amazonaws.com/108835_65a73467d96f4c79a5f808f5b8833922.html) contains information on students in secondary education in Portugal.\n",
        "\n",
        "Important  attributes/columns:\n",
        "- G1 - first period grade (from 0 to 20) \n",
        "- G2 - second period grade (from 0 to 20) \n",
        "- G3 - final grade (from 0 to 20)"
      ]
    },
    {
      "cell_type": "markdown",
      "metadata": {
        "id": "Sqpatd_K8V1_",
        "colab_type": "text"
      },
      "source": [
        "Let's download the data and save it to the data frame \"student_data\""
      ]
    },
    {
      "cell_type": "code",
      "metadata": {
        "id": "qrYR4lVC8V1_",
        "colab_type": "code",
        "colab": {}
      },
      "source": [
        "url = \"https://raw.githubusercontent.com/arunk13/MSDA-Assignments/master/IS607Fall2015/Assignment3/student-mat.csv\"\n",
        "student_data <- read.table(file= url, header = TRUE, sep = \";\")"
      ],
      "execution_count": 0,
      "outputs": []
    },
    {
      "cell_type": "markdown",
      "metadata": {
        "id": "zds7oa6y8V2D",
        "colab_type": "text"
      },
      "source": [
        "#### Have a look at the data\n",
        "\n",
        "To view your data frame, write the name in a code cell and run it"
      ]
    },
    {
      "cell_type": "code",
      "metadata": {
        "scrolled": true,
        "id": "kyzruYRY8V2D",
        "colab_type": "code",
        "colab": {}
      },
      "source": [
        "student_data"
      ],
      "execution_count": 0,
      "outputs": []
    },
    {
      "cell_type": "markdown",
      "metadata": {
        "id": "JrfH4Ulr8V2H",
        "colab_type": "text"
      },
      "source": [
        "#### View first or last part\n",
        "\n",
        "*head()* and *tail()* return first or last part of the data frame"
      ]
    },
    {
      "cell_type": "code",
      "metadata": {
        "id": "rDwLC0NC8V2H",
        "colab_type": "code",
        "colab": {}
      },
      "source": [
        "tail(student_data)"
      ],
      "execution_count": 0,
      "outputs": []
    },
    {
      "cell_type": "markdown",
      "metadata": {
        "id": "KH-92nQv8V2L",
        "colab_type": "text"
      },
      "source": [
        "#### Get a glimpse of your data\n",
        "\n",
        "*glimpse()* outputs a transposed version of the standard view: columns run down the page, and data runs across. This makes it possible to see every column in a data frame"
      ]
    },
    {
      "cell_type": "code",
      "metadata": {
        "id": "bBR4UGig8V2M",
        "colab_type": "code",
        "colab": {}
      },
      "source": [
        "glimpse(student_data)"
      ],
      "execution_count": 0,
      "outputs": []
    },
    {
      "cell_type": "markdown",
      "metadata": {
        "id": "awKthJVE8V2S",
        "colab_type": "text"
      },
      "source": [
        "#### Data summaries\n",
        "\n",
        "You can use the *summary()* command to get a better feel for how your data are distributed"
      ]
    },
    {
      "cell_type": "code",
      "metadata": {
        "id": "6QWloHZJ8V2T",
        "colab_type": "code",
        "colab": {}
      },
      "source": [
        "student_data %>%\n",
        "    summary()"
      ],
      "execution_count": 0,
      "outputs": []
    },
    {
      "cell_type": "markdown",
      "metadata": {
        "toc-hr-collapsed": true,
        "toc-nb-collapsed": true,
        "id": "iyjJHTxU8V2W",
        "colab_type": "text"
      },
      "source": [
        "### Help and Documentation"
      ]
    },
    {
      "cell_type": "markdown",
      "metadata": {
        "id": "qTjJF8U28V2X",
        "colab_type": "text"
      },
      "source": [
        "#### Accessing the documentation with '?'\n",
        "\n",
        "The question mark is a simple shortcut to get help\n",
        "\n",
        "```R\n",
        "?tidyverse\n",
        "```"
      ]
    },
    {
      "cell_type": "code",
      "metadata": {
        "id": "hV-saLn98V2Y",
        "colab_type": "code",
        "colab": {}
      },
      "source": [
        "?tidyverse"
      ],
      "execution_count": 0,
      "outputs": []
    },
    {
      "cell_type": "markdown",
      "metadata": {
        "id": "hOHvgL8V8V2a",
        "colab_type": "text"
      },
      "source": [
        "### Recommended Books"
      ]
    },
    {
      "cell_type": "markdown",
      "metadata": {
        "cell_style": "split",
        "id": "KDSCD1j-8V2b",
        "colab_type": "text"
      },
      "source": [
        "R for Data Science (https://r4ds.had.co.nz/)\n",
        "\n",
        "<img src=\"https://d33wubrfki0l68.cloudfront.net/b88ef926a004b0fce72b2526b0b5c4413666a4cb/24a30/cover.png\" width=\"100\" style=\"float:left\">"
      ]
    },
    {
      "cell_type": "markdown",
      "metadata": {
        "cell_style": "split",
        "id": "PkCYZjoE8V2b",
        "colab_type": "text"
      },
      "source": [
        "An Introduction to Statistical Learning (https://www.springer.com/de/book/9781461471370)\n",
        "\n",
        "<img src=\"https://images.springer.com/sgw/books/medium/9781461471370.jpg\" width=\"100\" style=\"float:left\">"
      ]
    },
    {
      "cell_type": "markdown",
      "metadata": {
        "id": "iSV46rUf8V2c",
        "colab_type": "text"
      },
      "source": [
        "#### Cheat Sheets\n",
        "\n",
        "- Cheat sheets make it easy to learn about your favorite packages\n",
        "- [Here](https://www.rstudio.com/resources/cheatsheets/), you will find some cheat sheets"
      ]
    },
    {
      "cell_type": "markdown",
      "metadata": {
        "toc-hr-collapsed": true,
        "toc-nb-collapsed": true,
        "id": "5BWK9DdH8V2d",
        "colab_type": "text"
      },
      "source": [
        "## Analytic Pipelines: Data Transformation with *dplyr*"
      ]
    },
    {
      "cell_type": "markdown",
      "metadata": {
        "toc-hr-collapsed": true,
        "toc-nb-collapsed": true,
        "id": "jPnJq3B08V2e",
        "colab_type": "text"
      },
      "source": [
        "The *dplyr* packages provides a grammar for manipulating tables in R. It can be conceptualized as an alternative to a traditional query language like SQL.\n",
        "\n",
        "Main functions are\n",
        "\n",
        "- *select()* extracts variables/columns as a table\n",
        "\n",
        "- *filter()* extracts rows that meet logical criteria\n",
        "\n",
        "- *group_by()* creates a \"grouped\" copy of a table. *dplyr* functions will manipulate each \"group\" separately and then combine the results\n",
        "\n",
        "- *summarise()* applies summary functions to columns to create a new table of summary statistics based on grouping.\n",
        "\n",
        "- *arrange()* orders rows by values of a column or columns\n",
        "\n",
        "- *mutate()* computes new columns/variables"
      ]
    },
    {
      "cell_type": "markdown",
      "metadata": {
        "id": "rTiFtfr08V2f",
        "colab_type": "text"
      },
      "source": [
        "Multiple operations can be executed in sequence using the pipe operator:\n",
        "\n",
        "```R\n",
        "df %>%\n",
        "    filter() %>%\n",
        "    mutate() %>%\n",
        "    arrange()\n",
        "```"
      ]
    },
    {
      "cell_type": "markdown",
      "metadata": {
        "id": "uJaANdAO8V2g",
        "colab_type": "text"
      },
      "source": [
        "We will now apply these functions to our student dataset. You can use the  [Cheat Cheat](https://content.cdntwrk.com/files/aT05NjI5Mjgmdj0xJmlzc3VlTmFtZT1kYXRhLXRyYW5zZm9ybWF0aW9uLWNoZWF0LXNoZWV0JmNtZD1kJnNpZz01ZjdlZGUxZDJiM2QwMmYxNDUzODIwYzA0NzE5NTA2YQ%253D%253D) to work on the following tasks. "
      ]
    },
    {
      "cell_type": "markdown",
      "metadata": {
        "id": "N-6Z4DET8V2g",
        "colab_type": "text"
      },
      "source": [
        "#### Select variables\n",
        "\n",
        "Select the attributes *sex* and *age* from the data"
      ]
    },
    {
      "cell_type": "code",
      "metadata": {
        "id": "m4ulVXRF8V2h",
        "colab_type": "code",
        "colab": {}
      },
      "source": [
        "student_data %>%\n",
        "    select(sex, age)"
      ],
      "execution_count": 0,
      "outputs": []
    },
    {
      "cell_type": "markdown",
      "metadata": {
        "id": "JvL-lhoS8V2k",
        "colab_type": "text"
      },
      "source": [
        "#### Make new variables\n",
        "\n",
        "Calculate the average grade from the first period grade (G1) and the second period grade (G2) in a new columns 'MeanGrade'"
      ]
    },
    {
      "cell_type": "code",
      "metadata": {
        "id": "ZZDJmHWD8V2l",
        "colab_type": "code",
        "colab": {}
      },
      "source": [
        "student_data %>%\n",
        "    mutate(\"MeanGrade\" = (G1+G2)/2)"
      ],
      "execution_count": 0,
      "outputs": []
    },
    {
      "cell_type": "markdown",
      "metadata": {
        "id": "OKHQe2Ez8V2n",
        "colab_type": "text"
      },
      "source": [
        "#### Extract data\n",
        "Filter only male students"
      ]
    },
    {
      "cell_type": "code",
      "metadata": {
        "scrolled": true,
        "id": "z28KHfC28V2o",
        "colab_type": "code",
        "colab": {}
      },
      "source": [
        "student_data %>%\n",
        "    filter(sex=='M')"
      ],
      "execution_count": 0,
      "outputs": []
    },
    {
      "cell_type": "markdown",
      "metadata": {
        "id": "KZk90ob68V2q",
        "colab_type": "text"
      },
      "source": [
        "#### Sorting the data\n",
        "\n",
        "Select only the female students and sort them by age."
      ]
    },
    {
      "cell_type": "code",
      "metadata": {
        "id": "OoaeiS5t8V2r",
        "colab_type": "code",
        "colab": {}
      },
      "source": [
        "student_data %>%\n",
        "    filter(sex=='F') %>%\n",
        "    arrange(-age)"
      ],
      "execution_count": 0,
      "outputs": []
    },
    {
      "cell_type": "markdown",
      "metadata": {
        "id": "udeGeg_88V2w",
        "colab_type": "text"
      },
      "source": [
        "#### Summarize the data\n",
        "\n",
        "What is the average absences of the students?"
      ]
    },
    {
      "cell_type": "code",
      "metadata": {
        "id": "56g7l4lw8V2w",
        "colab_type": "code",
        "colab": {}
      },
      "source": [
        "student_data %>%\n",
        "    summarise(Mean_absences = mean(absences))"
      ],
      "execution_count": 0,
      "outputs": []
    },
    {
      "cell_type": "markdown",
      "metadata": {
        "id": "uYf201W68V2z",
        "colab_type": "text"
      },
      "source": [
        "#### Grouping and summarizing\n",
        "\n",
        "Calculate the average absences of both male and female students"
      ]
    },
    {
      "cell_type": "code",
      "metadata": {
        "scrolled": true,
        "id": "_T1fmoNb8V20",
        "colab_type": "code",
        "colab": {}
      },
      "source": [
        "student_data %>%\n",
        "    group_by(age, sex) %>%\n",
        "    summarise(Mean_absences = mean(absences))"
      ],
      "execution_count": 0,
      "outputs": []
    },
    {
      "cell_type": "markdown",
      "metadata": {
        "id": "I-DFx4Wa8V23",
        "colab_type": "text"
      },
      "source": [
        "## Exercises"
      ]
    },
    {
      "cell_type": "markdown",
      "metadata": {
        "id": "LCWORryN8V24",
        "colab_type": "text"
      },
      "source": [
        "### Exam AIS WS 2018/19\n",
        "__Data Engineering & Integration (5 points)__\n",
        "\n",
        "(a) __Analytic Pipelines__: Consider the following diamonds data set:"
      ]
    },
    {
      "cell_type": "code",
      "metadata": {
        "id": "4jbdamr28V24",
        "colab_type": "code",
        "colab": {}
      },
      "source": [
        "# This code was not included in the exam, values may differ\n",
        "library(tidyverse)\n",
        "set.seed(5)\n",
        "ggplot2::diamonds %>% \n",
        "    sample_n(10) %>% \n",
        "    arrange(cut) -> diamonds"
      ],
      "execution_count": 0,
      "outputs": []
    },
    {
      "cell_type": "code",
      "metadata": {
        "id": "1ZKpPTnb8V28",
        "colab_type": "code",
        "colab": {}
      },
      "source": [
        "diamonds"
      ],
      "execution_count": 0,
      "outputs": []
    },
    {
      "cell_type": "markdown",
      "metadata": {
        "id": "Va40Ll6T8V3A",
        "colab_type": "text"
      },
      "source": [
        "    i. (1 points) You are executing the code below. How many rows does the resulting data frame contain? Briefly explain your answer.\n",
        "\n",
        "```R\n",
        "diamonds  %>%\n",
        "    group_by(cut) %>%\n",
        "    summarize(median(depth))\n",
        "```\n",
        "\n",
        "__Solution__:"
      ]
    },
    {
      "cell_type": "code",
      "metadata": {
        "scrolled": true,
        "id": "vEpufsrB8V3A",
        "colab_type": "code",
        "colab": {}
      },
      "source": [
        "# Write your answer/code here"
      ],
      "execution_count": 0,
      "outputs": []
    },
    {
      "cell_type": "markdown",
      "metadata": {
        "id": "crscUcS68V3E",
        "colab_type": "text"
      },
      "source": [
        "ii. (2 points) You are executing the code below. What are the column names of the resulting data frame?\n",
        "\n",
        "```R\n",
        "diamonds %>%\n",
        "    group_by(clarity , color) %>%\n",
        "    filter(price > 1000) %>%\n",
        "    mutate(volume = x * y * z) %>%\n",
        "    summarise(x = mean(carat),y = mean(price)) %>%\n",
        "    mutate(z = x * y)\n",
        "```\n",
        "\n",
        "__Solution__:"
      ]
    },
    {
      "cell_type": "code",
      "metadata": {
        "id": "fFYirXdl8V3F",
        "colab_type": "code",
        "colab": {}
      },
      "source": [
        "# Write your answer/code here"
      ],
      "execution_count": 0,
      "outputs": []
    },
    {
      "cell_type": "markdown",
      "metadata": {
        "id": "Cg-xqRJ78V3H",
        "colab_type": "text"
      },
      "source": [
        "iii. (2 points) Explain in pseudo code (e.g., dplyr pipelines) how to obtain the following transformed table from the given data set.\n",
        "\n",
        "<table style=\"font-size: 100%;\">\n",
        "<thead>\n",
        "\t<tr><th scope=col>color</th><th scope=col>max_price</th><th scope=col>min_price</th></tr>\n",
        "</thead>\n",
        "<tbody>\n",
        "\t<tr><td>F</td><td>1630</td><td> 786</td></tr>\n",
        "\t<tr><td>G</td><td>2593</td><td>2593</td></tr>\n",
        "\t<tr><td>H</td><td>7604</td><td>1723</td></tr>\n",
        "\t<tr><td>I</td><td>4195</td><td>1840</td></tr>\n",
        "\t<tr><td>J</td><td>5463</td><td>5463</td></tr>\n",
        "</tbody>\n",
        "</table>"
      ]
    },
    {
      "cell_type": "code",
      "metadata": {
        "id": "GgARfqLD8V3I",
        "colab_type": "code",
        "colab": {}
      },
      "source": [
        "# Write your answer/code here"
      ],
      "execution_count": 0,
      "outputs": []
    }
  ]
}