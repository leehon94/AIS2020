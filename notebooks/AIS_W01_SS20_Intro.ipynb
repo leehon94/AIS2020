{
 "cells": [
  {
   "cell_type": "markdown",
   "metadata": {
    "slideshow": {
     "slide_type": "slide"
    }
   },
   "source": [
    "*Analytical Information Systems*\n",
    "\n",
    "# Worksheet 1 - Introduction to Jupyter and R Analytic Pipelines\n",
    "\n",
    "Matthias Griebel<br>\n",
    "Lehrstuhl für Wirtschaftsinformatik und Informationsmanagement\n",
    "\n",
    "SS 2020"
   ]
  },
  {
   "cell_type": "markdown",
   "metadata": {},
   "source": [
    "## Jupyter and R Working Environment"
   ]
  },
  {
   "cell_type": "markdown",
   "metadata": {
    "cell_style": "center",
    "slideshow": {
     "slide_type": "fragment"
    }
   },
   "source": [
    "__We will be using R__\n",
    "\n",
    "<img src=\"https://upload.wikimedia.org/wikipedia/commons/thumb/1/1b/R_logo.svg/724px-R_logo.svg.png\" width=\"100\">\n",
    "\n",
    "\n",
    "R is not the only language that can be used for data analysis. Why R rather than another?\n",
    "- interactive language\n",
    "- data structures & functions\n",
    "- graphics\n",
    "- packages & community!\n",
    "\n"
   ]
  },
  {
   "cell_type": "markdown",
   "metadata": {
    "cell_style": "center",
    "slideshow": {
     "slide_type": "subslide"
    }
   },
   "source": [
    "__... and tidyverse__\n",
    "\n",
    "The [tidyverse](https://www.tidyverse.org) is a collection of R packages that share common philosophies and are designed to work together.\n",
    "\n",
    "- Reuse existing data structures\n",
    "- Compose simple functions with the pipe\n",
    "- Embrace functional programming\n",
    "- Design for humans\n",
    "\n",
    "<img src=\"https://github.com/matjesg/AIS_2019/raw/master/notebooks/images/01/ecosystem.png\" width=\"300\">\n"
   ]
  },
  {
   "cell_type": "markdown",
   "metadata": {
    "slideshow": {
     "slide_type": "fragment"
    }
   },
   "source": [
    "__within the Jupyter Ecosystem__\n",
    "\n",
    "Project Jupyter exists to develop open-source software, open-standards, and services for interactive computing across dozens of programming languages (https://jupyter.org/)."
   ]
  },
  {
   "cell_type": "markdown",
   "metadata": {
    "slideshow": {
     "slide_type": "fragment"
    }
   },
   "source": [
    "### The Jupyter Notebook (this!)\n",
    "\n",
    "<img src=\"https://upload.wikimedia.org/wikipedia/commons/thumb/3/38/Jupyter_logo.svg/250px-Jupyter_logo.svg.png\" width=\"100\">\n",
    "\n",
    "- open-source web application \n",
    "- create and share documents that contain\n",
    "    - live code and narrative text\n",
    "    - data cleaning and transformation\n",
    "    - numerical simulation\n",
    "    - statistical modeling \n",
    "    - data visualization\n",
    "    - machine learning\n",
    "    - and much more "
   ]
  },
  {
   "cell_type": "markdown",
   "metadata": {
    "slideshow": {
     "slide_type": "subslide"
    }
   },
   "source": [
    "__Jupyter Notebooks Cells__\n",
    "- A Markdown cell (this cell) contains text formatted using Markdown and displays its output in-place when it is run\n",
    "- A code cell contains code to be executed in the kernel and displays its output below"
   ]
  },
  {
   "cell_type": "markdown",
   "metadata": {
    "slideshow": {
     "slide_type": "subslide"
    }
   },
   "source": [
    "Now, write and run your first code in the next cell and run the code\n",
    "```R\n",
    "string <- \"your text\"\n",
    "print(string)\n",
    "```"
   ]
  },
  {
   "cell_type": "code",
   "execution_count": null,
   "metadata": {},
   "outputs": [],
   "source": [
    "string <- \"hello world\"\n",
    "print(string)"
   ]
  },
  {
   "cell_type": "markdown",
   "metadata": {},
   "source": [
    "### Google Colab"
   ]
  },
  {
   "cell_type": "markdown",
   "metadata": {},
   "source": [
    "<img alt=\"Colaboratory logo\" height=\"45px\" src=\"https://colab.research.google.com/img/colab_favicon.ico\" align=\"right\" hspace=\"10px\" vspace=\"0px\">\n",
    "\n",
    "[Colaboratory](https://colab.research.google.com/) is a free Jupyter notebook environment that requires no setup and runs entirely in the cloud.\n",
    "\n",
    "With Colaboratory you can \n",
    "- write and execute code, \n",
    "- save and share your analyses, and \n",
    "- access powerful computing resources (GPU and TPU), \n",
    "\n",
    "all for free from your browser. [More information](https://colab.research.google.com/notebooks/welcome.ipynb)"
   ]
  },
  {
   "cell_type": "markdown",
   "metadata": {
    "toc-hr-collapsed": true,
    "toc-nb-collapsed": true
   },
   "source": [
    "## R Programming"
   ]
  },
  {
   "cell_type": "markdown",
   "metadata": {
    "slideshow": {
     "slide_type": "subslide"
    }
   },
   "source": [
    "### R Packages\n",
    "\n",
    "Packages are the fundamental units of reproducible R code. They include reusable R functions, the documentation that describes how to use them, and sample data. \n",
    "\n",
    "Example: Install and load the *tidyverse*\n",
    "```R\n",
    "# install\n",
    "install.packages('tidyverse')\n",
    "# load\n",
    "library(tidyverse)\n",
    "```"
   ]
  },
  {
   "cell_type": "markdown",
   "metadata": {
    "slideshow": {
     "slide_type": "subslide"
    }
   },
   "source": [
    "The *tidyverse* package is already pre-installed, so we just need to load them"
   ]
  },
  {
   "cell_type": "code",
   "execution_count": null,
   "metadata": {
    "scrolled": true,
    "slideshow": {
     "slide_type": "fragment"
    }
   },
   "outputs": [],
   "source": [
    "library(tidyverse)"
   ]
  },
  {
   "cell_type": "markdown",
   "metadata": {
    "slideshow": {
     "slide_type": "subslide"
    }
   },
   "source": [
    "### Operators in R"
   ]
  },
  {
   "cell_type": "markdown",
   "metadata": {
    "slideshow": {
     "slide_type": "fragment"
    }
   },
   "source": [
    "#### Assignment operators\n",
    "\n",
    "These operators are used to assign values to variables\n",
    "<table style=\"font-size: 100%;\">\n",
    "<tbody>\n",
    "<tr>\n",
    "<th>Operator</th>\n",
    "<th>Description</th>\n",
    "</tr>\n",
    "<tr>\n",
    "<td>&lt;-, =</td>\n",
    "<td>Leftwards assignment</td>\n",
    "</tr>\n",
    "<tr>\n",
    "<td>-&gt;</td>\n",
    "<td>Rightwards assignment</td>\n",
    "</tr>\n",
    "</tbody>\n",
    "</table>"
   ]
  },
  {
   "cell_type": "code",
   "execution_count": null,
   "metadata": {},
   "outputs": [],
   "source": [
    "x <- 5\n",
    "x"
   ]
  },
  {
   "cell_type": "markdown",
   "metadata": {
    "slideshow": {
     "slide_type": "subslide"
    }
   },
   "source": [
    "#### Arithmetic operators\n",
    "\n",
    "These operators are used to carry out mathematical operations like addition and multiplication.\n",
    "\n",
    "<table style=\"font-size: 100%;\">\n",
    "<tbody>\n",
    "<tr>\n",
    "<th>Operator</th>\n",
    "<th>Description</th>\n",
    "</tr>\n",
    "<tr>\n",
    "<td>+</td>\n",
    "<td>Addition</td>\n",
    "</tr>\n",
    "<tr>\n",
    "<td>&#8211;</td>\n",
    "<td>Subtraction</td>\n",
    "</tr>\n",
    "<tr>\n",
    "<td>*</td>\n",
    "<td>Multiplication</td>\n",
    "</tr>\n",
    "<tr>\n",
    "<td>/</td>\n",
    "<td>Division</td>\n",
    "</tr>\n",
    "<tr>\n",
    "<td>^</td>\n",
    "<td>Exponent</td>\n",
    "</tr>\n",
    "<tr>\n",
    "<td>%%</td>\n",
    "<td>Modulus (Remainder from division)</td>\n",
    "</tr>\n",
    "<tr>\n",
    "<td>%/%</td>\n",
    "<td>Integer Division</td>\n",
    "</tr>\n",
    "</tbody>\n",
    "</table>"
   ]
  },
  {
   "cell_type": "code",
   "execution_count": null,
   "metadata": {},
   "outputs": [],
   "source": [
    "x^10"
   ]
  },
  {
   "cell_type": "markdown",
   "metadata": {
    "slideshow": {
     "slide_type": "subslide"
    }
   },
   "source": [
    "#### Relational operators\n",
    "Relational operators test or define some kind of relation between two entities/values\n",
    "<table style=\"font-size: 100%;\">\n",
    "<tbody>\n",
    "<tr>\n",
    "<th>Operator</th>\n",
    "<th>Description</th>\n",
    "</tr>\n",
    "<tr>\n",
    "<td>&lt;</td>\n",
    "<td>Less than</td>\n",
    "</tr>\n",
    "<tr>\n",
    "<td>&gt;</td>\n",
    "<td>Greater than</td>\n",
    "</tr>\n",
    "<tr>\n",
    "<td>&lt;=</td>\n",
    "<td>Less than or equal to</td>\n",
    "</tr>\n",
    "<tr>\n",
    "<td>&gt;=</td>\n",
    "<td>Greater than or equal to</td>\n",
    "</tr>\n",
    "<tr>\n",
    "<td>==</td>\n",
    "<td>Equal to</td>\n",
    "</tr>\n",
    "<tr>\n",
    "<td>!=</td>\n",
    "<td>Not equal to</td>\n",
    "</tr>\n",
    "</tbody>\n",
    "</table>"
   ]
  },
  {
   "cell_type": "code",
   "execution_count": null,
   "metadata": {},
   "outputs": [],
   "source": [
    "x < 10"
   ]
  },
  {
   "cell_type": "markdown",
   "metadata": {
    "slideshow": {
     "slide_type": "subslide"
    }
   },
   "source": [
    "#### The pipe operator\n",
    "\n",
    "<img src=\"https://github.com/matjesg/AIS_2019/raw/master/notebooks/images/01/pipes.png\" width=\"150\">\n",
    "\n",
    "Pipes are a powerful tool for clearly expressing a sequence of multiple operations.<br>\n",
    "\n",
    "In a pipe, we can rewrite the code as follows\n",
    "```R\n",
    "string %>%\n",
    "    print()\n",
    "```"
   ]
  },
  {
   "cell_type": "code",
   "execution_count": null,
   "metadata": {
    "slideshow": {
     "slide_type": "fragment"
    }
   },
   "outputs": [],
   "source": [
    "string %>%\n",
    "    print()"
   ]
  },
  {
   "cell_type": "markdown",
   "metadata": {
    "slideshow": {
     "slide_type": "subslide"
    },
    "toc-hr-collapsed": true,
    "toc-nb-collapsed": true
   },
   "source": [
    "## Relational Data and Data Frames"
   ]
  },
  {
   "cell_type": "markdown",
   "metadata": {
    "slideshow": {
     "slide_type": "fragment"
    }
   },
   "source": [
    "__ARIS Data View__\n",
    "\n",
    "<img src=\"https://github.com/matjesg/AIS_2019/raw/master/notebooks/images/01/aris.png\" width=\"500\">"
   ]
  },
  {
   "cell_type": "markdown",
   "metadata": {
    "slideshow": {
     "slide_type": "subslide"
    }
   },
   "source": [
    "The relational model represents the database as a collection of relations (= tables, in R: *data frames* or *tibbles*).\n",
    "\n",
    "- Each row of a table represents a list of related data values (= data record). Such a line is referred to as a \"tuple”\n",
    "- A column corresponds to an attribute\n",
    "    - Attributes are assigned a data type, format, or value range \n",
    "    - Each attribute value is atomic and cannot be further broken down into components"
   ]
  },
  {
   "cell_type": "markdown",
   "metadata": {
    "slideshow": {
     "slide_type": "subslide"
    }
   },
   "source": [
    "#### Working on the Student Performance Data Set \n",
    "\n",
    "The [data set](https://rstudio-pubs-static.s3.amazonaws.com/108835_65a73467d96f4c79a5f808f5b8833922.html) contains information on students in secondary education in Portugal.\n",
    "\n",
    "Important  attributes/columns:\n",
    "- G1 - first period grade (from 0 to 20) \n",
    "- G2 - second period grade (from 0 to 20) \n",
    "- G3 - final grade (from 0 to 20)"
   ]
  },
  {
   "cell_type": "markdown",
   "metadata": {
    "slideshow": {
     "slide_type": "fragment"
    }
   },
   "source": [
    "Let's download the data and save it to the data frame \"student_data\""
   ]
  },
  {
   "cell_type": "code",
   "execution_count": null,
   "metadata": {},
   "outputs": [],
   "source": [
    "url = \"https://raw.githubusercontent.com/arunk13/MSDA-Assignments/master/IS607Fall2015/Assignment3/student-mat.csv\"\n",
    "student_data <- read.table(file= url, header = TRUE, sep = \";\")"
   ]
  },
  {
   "cell_type": "markdown",
   "metadata": {
    "slideshow": {
     "slide_type": "subslide"
    }
   },
   "source": [
    "#### Have a look at the data\n",
    "\n",
    "To view your data frame, write the name in a code cell and run it"
   ]
  },
  {
   "cell_type": "code",
   "execution_count": null,
   "metadata": {
    "scrolled": true
   },
   "outputs": [],
   "source": [
    "student_data"
   ]
  },
  {
   "cell_type": "markdown",
   "metadata": {
    "slideshow": {
     "slide_type": "subslide"
    }
   },
   "source": [
    "#### View first or last part\n",
    "\n",
    "*head()* and *tail()* return first or last part of the data frame"
   ]
  },
  {
   "cell_type": "code",
   "execution_count": null,
   "metadata": {},
   "outputs": [],
   "source": [
    "tail(student_data)"
   ]
  },
  {
   "cell_type": "markdown",
   "metadata": {
    "slideshow": {
     "slide_type": "subslide"
    }
   },
   "source": [
    "#### Get a glimpse of your data\n",
    "\n",
    "*glimpse()* outputs a transposed version of the standard view: columns run down the page, and data runs across. This makes it possible to see every column in a data frame"
   ]
  },
  {
   "cell_type": "code",
   "execution_count": null,
   "metadata": {},
   "outputs": [],
   "source": [
    "glimpse(student_data)"
   ]
  },
  {
   "cell_type": "markdown",
   "metadata": {
    "slideshow": {
     "slide_type": "subslide"
    }
   },
   "source": [
    "#### Data summaries\n",
    "\n",
    "You can use the *summary()* command to get a better feel for how your data are distributed"
   ]
  },
  {
   "cell_type": "code",
   "execution_count": null,
   "metadata": {},
   "outputs": [],
   "source": [
    "student_data %>%\n",
    "    summary()"
   ]
  },
  {
   "cell_type": "markdown",
   "metadata": {
    "slideshow": {
     "slide_type": "subslide"
    },
    "toc-hr-collapsed": true,
    "toc-nb-collapsed": true
   },
   "source": [
    "## Help and Documentation"
   ]
  },
  {
   "cell_type": "markdown",
   "metadata": {
    "slideshow": {
     "slide_type": "fragment"
    }
   },
   "source": [
    "#### Accessing the documentation with '?'\n",
    "\n",
    "The question mark is a simple shortcut to get help\n",
    "\n",
    "```R\n",
    "?tidyverse\n",
    "```"
   ]
  },
  {
   "cell_type": "code",
   "execution_count": null,
   "metadata": {},
   "outputs": [],
   "source": [
    "?tidyverse"
   ]
  },
  {
   "cell_type": "markdown",
   "metadata": {
    "slideshow": {
     "slide_type": "subslide"
    }
   },
   "source": [
    "### Recommended Books"
   ]
  },
  {
   "cell_type": "markdown",
   "metadata": {
    "cell_style": "split",
    "slideshow": {
     "slide_type": "fragment"
    }
   },
   "source": [
    "R for Data Science (https://r4ds.had.co.nz/)\n",
    "\n",
    "<img src=\"https://d33wubrfki0l68.cloudfront.net/b88ef926a004b0fce72b2526b0b5c4413666a4cb/24a30/cover.png\" width=\"100\" style=\"float:left\">"
   ]
  },
  {
   "cell_type": "markdown",
   "metadata": {
    "cell_style": "split",
    "slideshow": {
     "slide_type": "fragment"
    }
   },
   "source": [
    "An Introduction to Statistical Learning (https://www.springer.com/de/book/9781461471370)\n",
    "\n",
    "<img src=\"https://images.springer.com/sgw/books/medium/9781461471370.jpg\" width=\"100\" style=\"float:left\">"
   ]
  },
  {
   "cell_type": "markdown",
   "metadata": {
    "slideshow": {
     "slide_type": "subslide"
    }
   },
   "source": [
    "#### Cheat Sheets\n",
    "\n",
    "- Cheat sheets make it easy to learn about your favorite packages\n",
    "- [Here](https://www.rstudio.com/resources/cheatsheets/), you will find some cheat sheets"
   ]
  },
  {
   "cell_type": "markdown",
   "metadata": {
    "slideshow": {
     "slide_type": "subslide"
    },
    "toc-hr-collapsed": true,
    "toc-nb-collapsed": true
   },
   "source": [
    "## Analytic Pipelines: Data Transformation with *dplyr*"
   ]
  },
  {
   "cell_type": "markdown",
   "metadata": {
    "slideshow": {
     "slide_type": "subslide"
    },
    "toc-hr-collapsed": true,
    "toc-nb-collapsed": true
   },
   "source": [
    "The *dplyr* packages provides a grammar for manipulating tables in R. It can be conceptualized as an alternative to a traditional query language like SQL.\n",
    "\n",
    "Main functions are\n",
    "\n",
    "- *select()* extracts variables/columns as a table\n",
    "\n",
    "- *filter()* extracts rows that meet logical criteria\n",
    "\n",
    "- *group_by()* creates a \"grouped\" copy of a table. *dplyr* functions will manipulate each \"group\" separately and then combine the results\n",
    "\n",
    "- *summarise()* applies summary functions to columns to create a new table of summary statistics based on grouping.\n",
    "\n",
    "- *arrange()* orders rows by values of a column or columns\n",
    "\n",
    "- *mutate()* computes new columns/variables"
   ]
  },
  {
   "cell_type": "markdown",
   "metadata": {
    "slideshow": {
     "slide_type": "subslide"
    }
   },
   "source": [
    "Multiple operations can be executed in sequence using the pipe operator:\n",
    "\n",
    "```R\n",
    "df %>%\n",
    "    filter() %>%\n",
    "    mutate() %>%\n",
    "    arrange()\n",
    "```"
   ]
  },
  {
   "cell_type": "markdown",
   "metadata": {
    "slideshow": {
     "slide_type": "fragment"
    }
   },
   "source": [
    "We will now apply these functions to our student dataset. You can use the  [Cheat Cheat](https://content.cdntwrk.com/files/aT05NjI5Mjgmdj0xJmlzc3VlTmFtZT1kYXRhLXRyYW5zZm9ybWF0aW9uLWNoZWF0LXNoZWV0JmNtZD1kJnNpZz01ZjdlZGUxZDJiM2QwMmYxNDUzODIwYzA0NzE5NTA2YQ%253D%253D) to work on the following tasks. "
   ]
  },
  {
   "cell_type": "markdown",
   "metadata": {
    "slideshow": {
     "slide_type": "subslide"
    }
   },
   "source": [
    "#### Select variables\n",
    "\n",
    "Select the attributes *sex* and *age* from the data"
   ]
  },
  {
   "cell_type": "code",
   "execution_count": null,
   "metadata": {},
   "outputs": [],
   "source": [
    "student_data %>%\n",
    "    select(sex, age)"
   ]
  },
  {
   "cell_type": "markdown",
   "metadata": {
    "slideshow": {
     "slide_type": "subslide"
    }
   },
   "source": [
    "#### Make new variables\n",
    "\n",
    "Calculate the average grade from the first period grade (G1) and the second period grade (G2) in a new columns 'MeanGrade'"
   ]
  },
  {
   "cell_type": "code",
   "execution_count": null,
   "metadata": {},
   "outputs": [],
   "source": [
    "student_data %>%\n",
    "    mutate(\"MeanGrade\" = (G1+G2)/2)"
   ]
  },
  {
   "cell_type": "markdown",
   "metadata": {
    "slideshow": {
     "slide_type": "subslide"
    }
   },
   "source": [
    "#### Extract data\n",
    "Filter only male students"
   ]
  },
  {
   "cell_type": "code",
   "execution_count": null,
   "metadata": {
    "scrolled": true
   },
   "outputs": [],
   "source": [
    "student_data %>%\n",
    "    filter(sex=='M')"
   ]
  },
  {
   "cell_type": "markdown",
   "metadata": {
    "slideshow": {
     "slide_type": "subslide"
    }
   },
   "source": [
    "#### Sorting the data\n",
    "\n",
    "Select only the female students and sort them by age."
   ]
  },
  {
   "cell_type": "code",
   "execution_count": null,
   "metadata": {},
   "outputs": [],
   "source": [
    "student_data %>%\n",
    "    filter(sex=='F') %>%\n",
    "    arrange(-age)"
   ]
  },
  {
   "cell_type": "markdown",
   "metadata": {
    "slideshow": {
     "slide_type": "subslide"
    }
   },
   "source": [
    "#### Summarize the data\n",
    "\n",
    "What is the average absences of the students?"
   ]
  },
  {
   "cell_type": "code",
   "execution_count": null,
   "metadata": {},
   "outputs": [],
   "source": [
    "student_data %>%\n",
    "    summarise(Mean_absences = mean(absences))"
   ]
  },
  {
   "cell_type": "markdown",
   "metadata": {
    "slideshow": {
     "slide_type": "subslide"
    }
   },
   "source": [
    "#### Grouping and summarizing\n",
    "\n",
    "Calculate the average absences of both male and female students"
   ]
  },
  {
   "cell_type": "code",
   "execution_count": null,
   "metadata": {
    "scrolled": true
   },
   "outputs": [],
   "source": [
    "student_data %>%\n",
    "    group_by(age, sex) %>%\n",
    "    summarise(Mean_absences = mean(absences))"
   ]
  },
  {
   "cell_type": "markdown",
   "metadata": {},
   "source": [
    "## Exercises"
   ]
  },
  {
   "cell_type": "markdown",
   "metadata": {
    "slideshow": {
     "slide_type": "subslide"
    }
   },
   "source": [
    "### Exam AIS WS 2018/19\n",
    "__Data Engineering & Integration (5 points)__\n",
    "\n",
    "(a) __Analytic Pipelines__: Consider the following diamonds data set:"
   ]
  },
  {
   "cell_type": "code",
   "execution_count": null,
   "metadata": {
    "slideshow": {
     "slide_type": "-"
    }
   },
   "outputs": [],
   "source": [
    "# This code was not included in the exam, values may differ\n",
    "library(tidyverse)\n",
    "set.seed(5)\n",
    "ggplot2::diamonds %>% \n",
    "    sample_n(10) %>% \n",
    "    arrange(cut) -> diamonds"
   ]
  },
  {
   "cell_type": "code",
   "execution_count": null,
   "metadata": {},
   "outputs": [],
   "source": [
    "diamonds"
   ]
  },
  {
   "cell_type": "markdown",
   "metadata": {
    "slideshow": {
     "slide_type": "subslide"
    }
   },
   "source": [
    "    i. (1 points) You are executing the code below. How many rows does the resulting data frame contain? Briefly explain your answer.\n",
    "\n",
    "```R\n",
    "diamonds  %>%\n",
    "    group_by(cut) %>%\n",
    "    summarize(median(depth))\n",
    "```\n",
    "\n",
    "__Solution__:"
   ]
  },
  {
   "cell_type": "code",
   "execution_count": null,
   "metadata": {
    "scrolled": true
   },
   "outputs": [],
   "source": [
    "# Write your answer/code here"
   ]
  },
  {
   "cell_type": "markdown",
   "metadata": {
    "slideshow": {
     "slide_type": "subslide"
    }
   },
   "source": [
    "ii. (2 points) You are executing the code below. What are the column names of the resulting data frame?\n",
    "\n",
    "```R\n",
    "diamonds %>%\n",
    "    group_by(clarity , color) %>%\n",
    "    filter(price > 1000) %>%\n",
    "    mutate(volume = x * y * z) %>%\n",
    "    summarise(x = mean(carat),y = mean(price)) %>%\n",
    "    mutate(z = x * y)\n",
    "```\n",
    "\n",
    "__Solution__:"
   ]
  },
  {
   "cell_type": "code",
   "execution_count": null,
   "metadata": {},
   "outputs": [],
   "source": [
    "# Write your answer/code here"
   ]
  },
  {
   "cell_type": "markdown",
   "metadata": {
    "slideshow": {
     "slide_type": "subslide"
    }
   },
   "source": [
    "iii. (2 points) Explain in pseudo code (e.g., dplyr pipelines) how to obtain the following transformed table from the given data set.\n",
    "\n",
    "<table style=\"font-size: 100%;\">\n",
    "<thead>\n",
    "\t<tr><th scope=col>color</th><th scope=col>max_price</th><th scope=col>min_price</th></tr>\n",
    "</thead>\n",
    "<tbody>\n",
    "\t<tr><td>F</td><td>1630</td><td> 786</td></tr>\n",
    "\t<tr><td>G</td><td>2593</td><td>2593</td></tr>\n",
    "\t<tr><td>H</td><td>7604</td><td>1723</td></tr>\n",
    "\t<tr><td>I</td><td>4195</td><td>1840</td></tr>\n",
    "\t<tr><td>J</td><td>5463</td><td>5463</td></tr>\n",
    "</tbody>\n",
    "</table>"
   ]
  },
  {
   "cell_type": "code",
   "execution_count": null,
   "metadata": {},
   "outputs": [],
   "source": [
    "# Write your answer/code here"
   ]
  }
 ],
 "metadata": {
  "kernelspec": {
   "display_name": "R",
   "language": "R",
   "name": "ir"
  },
  "language_info": {
   "codemirror_mode": "r",
   "file_extension": ".r",
   "mimetype": "text/x-r-source",
   "name": "R",
   "pygments_lexer": "r",
   "version": "3.6.1"
  },
  "rise": {
   "enable_chalkboard": false,
   "overlay": "<div class='logo'><img src='images/uniwue4c.png'></div>",
   "scroll": true
  },
  "toc": {
   "base_numbering": 1,
   "nav_menu": {},
   "number_sections": false,
   "sideBar": true,
   "skip_h1_title": true,
   "title_cell": "Agenda",
   "title_sidebar": "Contents",
   "toc_cell": true,
   "toc_position": {},
   "toc_section_display": true,
   "toc_window_display": false
  },
  "toc-autonumbering": false,
  "toc-showmarkdowntxt": true,
  "toc-showtags": false
 },
 "nbformat": 4,
 "nbformat_minor": 4
}
